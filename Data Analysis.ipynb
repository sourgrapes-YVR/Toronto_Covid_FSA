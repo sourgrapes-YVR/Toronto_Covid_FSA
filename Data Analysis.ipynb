{
 "cells": [
  {
   "metadata": {
    "ExecuteTime": {
     "end_time": "2025-08-13T01:36:30.042983Z",
     "start_time": "2025-08-13T01:36:30.040507Z"
    }
   },
   "cell_type": "code",
   "source": [
    "import pandas as pd\n",
    "import geopandas\n",
    "import seaborn as sns\n",
    "import folium\n",
    "from folium.plugins import HeatMap\n",
    "import matplotlib.pyplot as plt\n",
    "import numpy as np\n",
    "from scipy.stats import pearsonr"
   ],
   "id": "35c6ca79872539f5",
   "outputs": [],
   "execution_count": 125
  },
  {
   "metadata": {},
   "cell_type": "markdown",
   "source": "The FSA map is from Canada Post - it's a set of geometry polygons for each Forward Sortation Area in the country.",
   "id": "afec449d1120fed9"
  },
  {
   "metadata": {
    "ExecuteTime": {
     "end_time": "2025-08-13T01:36:30.798991Z",
     "start_time": "2025-08-13T01:36:30.064992Z"
    }
   },
   "cell_type": "code",
   "source": "FSA_map = geopandas.read_file('FSA_Shapefile')",
   "id": "e0cbda9f3021e946",
   "outputs": [],
   "execution_count": 126
  },
  {
   "metadata": {
    "ExecuteTime": {
     "end_time": "2025-08-13T01:36:30.854983Z",
     "start_time": "2025-08-13T01:36:30.805494Z"
    }
   },
   "cell_type": "code",
   "source": [
    "#Filter down the FSA to only Ontario\n",
    "FSA_map = FSA_map[FSA_map['PRUID'] == \"35\"]"
   ],
   "id": "7d014b173bad5909",
   "outputs": [],
   "execution_count": 127
  },
  {
   "metadata": {
    "ExecuteTime": {
     "end_time": "2025-08-13T01:36:30.907499Z",
     "start_time": "2025-08-13T01:36:30.861495Z"
    }
   },
   "cell_type": "code",
   "source": "FSA_map.head()",
   "id": "c77eb7147b81dba7",
   "outputs": [
    {
     "data": {
      "text/plain": [
       "    CFSAUID         DGUID PRUID   PRNAME   LANDAREA  \\\n",
       "643     K0A  2021A0011K0A    35  Ontario  3072.8212   \n",
       "644     K0B  2021A0011K0B    35  Ontario  1223.8974   \n",
       "645     K0C  2021A0011K0C    35  Ontario  2470.9420   \n",
       "646     K0E  2021A0011K0E    35  Ontario  1979.2436   \n",
       "647     K0G  2021A0011K0G    35  Ontario  2675.2361   \n",
       "\n",
       "                                              geometry  \n",
       "643  MULTIPOLYGON (((7409003.466 1184446.8, 7409023...  \n",
       "644  POLYGON ((7547053.517 1235912.877, 7546990.603...  \n",
       "645  MULTIPOLYGON (((7526037.231 1142505.114, 75260...  \n",
       "646  MULTIPOLYGON (((7467094.206 1056970.191, 74670...  \n",
       "647  MULTIPOLYGON (((7486734.166 1157795.989, 74867...  "
      ],
      "text/html": [
       "<div>\n",
       "<style scoped>\n",
       "    .dataframe tbody tr th:only-of-type {\n",
       "        vertical-align: middle;\n",
       "    }\n",
       "\n",
       "    .dataframe tbody tr th {\n",
       "        vertical-align: top;\n",
       "    }\n",
       "\n",
       "    .dataframe thead th {\n",
       "        text-align: right;\n",
       "    }\n",
       "</style>\n",
       "<table border=\"1\" class=\"dataframe\">\n",
       "  <thead>\n",
       "    <tr style=\"text-align: right;\">\n",
       "      <th></th>\n",
       "      <th>CFSAUID</th>\n",
       "      <th>DGUID</th>\n",
       "      <th>PRUID</th>\n",
       "      <th>PRNAME</th>\n",
       "      <th>LANDAREA</th>\n",
       "      <th>geometry</th>\n",
       "    </tr>\n",
       "  </thead>\n",
       "  <tbody>\n",
       "    <tr>\n",
       "      <th>643</th>\n",
       "      <td>K0A</td>\n",
       "      <td>2021A0011K0A</td>\n",
       "      <td>35</td>\n",
       "      <td>Ontario</td>\n",
       "      <td>3072.8212</td>\n",
       "      <td>MULTIPOLYGON (((7409003.466 1184446.8, 7409023...</td>\n",
       "    </tr>\n",
       "    <tr>\n",
       "      <th>644</th>\n",
       "      <td>K0B</td>\n",
       "      <td>2021A0011K0B</td>\n",
       "      <td>35</td>\n",
       "      <td>Ontario</td>\n",
       "      <td>1223.8974</td>\n",
       "      <td>POLYGON ((7547053.517 1235912.877, 7546990.603...</td>\n",
       "    </tr>\n",
       "    <tr>\n",
       "      <th>645</th>\n",
       "      <td>K0C</td>\n",
       "      <td>2021A0011K0C</td>\n",
       "      <td>35</td>\n",
       "      <td>Ontario</td>\n",
       "      <td>2470.9420</td>\n",
       "      <td>MULTIPOLYGON (((7526037.231 1142505.114, 75260...</td>\n",
       "    </tr>\n",
       "    <tr>\n",
       "      <th>646</th>\n",
       "      <td>K0E</td>\n",
       "      <td>2021A0011K0E</td>\n",
       "      <td>35</td>\n",
       "      <td>Ontario</td>\n",
       "      <td>1979.2436</td>\n",
       "      <td>MULTIPOLYGON (((7467094.206 1056970.191, 74670...</td>\n",
       "    </tr>\n",
       "    <tr>\n",
       "      <th>647</th>\n",
       "      <td>K0G</td>\n",
       "      <td>2021A0011K0G</td>\n",
       "      <td>35</td>\n",
       "      <td>Ontario</td>\n",
       "      <td>2675.2361</td>\n",
       "      <td>MULTIPOLYGON (((7486734.166 1157795.989, 74867...</td>\n",
       "    </tr>\n",
       "  </tbody>\n",
       "</table>\n",
       "</div>"
      ]
     },
     "execution_count": 128,
     "metadata": {},
     "output_type": "execute_result"
    }
   ],
   "execution_count": 128
  },
  {
   "metadata": {},
   "cell_type": "markdown",
   "source": "Now we get census data at the FSA level - this is a monster file that contains data for every single FSA in the country, so we're going to need to get it down to a manageable size pretty quickly.",
   "id": "b72f82b379040cd1"
  },
  {
   "metadata": {
    "ExecuteTime": {
     "end_time": "2025-08-13T01:36:34.934142Z",
     "start_time": "2025-08-13T01:36:30.932012Z"
    }
   },
   "cell_type": "code",
   "source": "Census_data = pd.read_csv('98-401-X2021013_English_CSV_data.csv', encoding='latin-1')",
   "id": "b49b768a54876f97",
   "outputs": [],
   "execution_count": 129
  },
  {
   "metadata": {
    "ExecuteTime": {
     "end_time": "2025-08-13T01:36:35.702493Z",
     "start_time": "2025-08-13T01:36:35.075530Z"
    }
   },
   "cell_type": "code",
   "source": "SW_ON_Census_Data = Census_data.loc[Census_data['GEO_NAME'].str.match(r'[MN]\\d\\w', na=False)]",
   "id": "3eb37eeebcb0c93e",
   "outputs": [],
   "execution_count": 130
  },
  {
   "metadata": {
    "ExecuteTime": {
     "end_time": "2025-08-13T01:36:35.720020Z",
     "start_time": "2025-08-13T01:36:35.707995Z"
    }
   },
   "cell_type": "code",
   "source": "SW_ON_Census_Data = SW_ON_Census_Data[SW_ON_Census_Data['CHARACTERISTIC_ID'] == 1]",
   "id": "97869e6bab42f189",
   "outputs": [],
   "execution_count": 131
  },
  {
   "metadata": {
    "ExecuteTime": {
     "end_time": "2025-08-13T01:36:35.727177Z",
     "start_time": "2025-08-13T01:36:35.724522Z"
    }
   },
   "cell_type": "code",
   "source": "Filtered_SW_ON_Census_Data = SW_ON_Census_Data[['GEO_NAME', 'C1_COUNT_TOTAL']]",
   "id": "46c1b4e72b8d46ad",
   "outputs": [],
   "execution_count": 132
  },
  {
   "metadata": {
    "ExecuteTime": {
     "end_time": "2025-08-13T01:36:35.734432Z",
     "start_time": "2025-08-13T01:36:35.731685Z"
    }
   },
   "cell_type": "code",
   "source": [
    "Filtered_SW_ON_Census_Data = Filtered_SW_ON_Census_Data.rename(columns={\n",
    "    'GEO_NAME': 'FSA',\n",
    "    'C1_COUNT_TOTAL': '2021 Population'\n",
    "})"
   ],
   "id": "231f246626b7df3",
   "outputs": [],
   "execution_count": 133
  },
  {
   "metadata": {
    "ExecuteTime": {
     "end_time": "2025-08-13T01:36:35.746655Z",
     "start_time": "2025-08-13T01:36:35.741936Z"
    }
   },
   "cell_type": "code",
   "source": "Filtered_SW_ON_Census_Data.set_index('FSA')",
   "id": "f31811aefa7ee98c",
   "outputs": [
    {
     "data": {
      "text/plain": [
       "     2021 Population\n",
       "FSA                 \n",
       "M1B          65555.0\n",
       "M1C          35642.0\n",
       "M1E          48033.0\n",
       "M1G          30894.0\n",
       "M1H          23964.0\n",
       "..               ...\n",
       "N9H          13173.0\n",
       "N9J          20089.0\n",
       "N9K           2757.0\n",
       "N9V          21688.0\n",
       "N9Y          15836.0\n",
       "\n",
       "[215 rows x 1 columns]"
      ],
      "text/html": [
       "<div>\n",
       "<style scoped>\n",
       "    .dataframe tbody tr th:only-of-type {\n",
       "        vertical-align: middle;\n",
       "    }\n",
       "\n",
       "    .dataframe tbody tr th {\n",
       "        vertical-align: top;\n",
       "    }\n",
       "\n",
       "    .dataframe thead th {\n",
       "        text-align: right;\n",
       "    }\n",
       "</style>\n",
       "<table border=\"1\" class=\"dataframe\">\n",
       "  <thead>\n",
       "    <tr style=\"text-align: right;\">\n",
       "      <th></th>\n",
       "      <th>2021 Population</th>\n",
       "    </tr>\n",
       "    <tr>\n",
       "      <th>FSA</th>\n",
       "      <th></th>\n",
       "    </tr>\n",
       "  </thead>\n",
       "  <tbody>\n",
       "    <tr>\n",
       "      <th>M1B</th>\n",
       "      <td>65555.0</td>\n",
       "    </tr>\n",
       "    <tr>\n",
       "      <th>M1C</th>\n",
       "      <td>35642.0</td>\n",
       "    </tr>\n",
       "    <tr>\n",
       "      <th>M1E</th>\n",
       "      <td>48033.0</td>\n",
       "    </tr>\n",
       "    <tr>\n",
       "      <th>M1G</th>\n",
       "      <td>30894.0</td>\n",
       "    </tr>\n",
       "    <tr>\n",
       "      <th>M1H</th>\n",
       "      <td>23964.0</td>\n",
       "    </tr>\n",
       "    <tr>\n",
       "      <th>...</th>\n",
       "      <td>...</td>\n",
       "    </tr>\n",
       "    <tr>\n",
       "      <th>N9H</th>\n",
       "      <td>13173.0</td>\n",
       "    </tr>\n",
       "    <tr>\n",
       "      <th>N9J</th>\n",
       "      <td>20089.0</td>\n",
       "    </tr>\n",
       "    <tr>\n",
       "      <th>N9K</th>\n",
       "      <td>2757.0</td>\n",
       "    </tr>\n",
       "    <tr>\n",
       "      <th>N9V</th>\n",
       "      <td>21688.0</td>\n",
       "    </tr>\n",
       "    <tr>\n",
       "      <th>N9Y</th>\n",
       "      <td>15836.0</td>\n",
       "    </tr>\n",
       "  </tbody>\n",
       "</table>\n",
       "<p>215 rows × 1 columns</p>\n",
       "</div>"
      ]
     },
     "execution_count": 134,
     "metadata": {},
     "output_type": "execute_result"
    }
   ],
   "execution_count": 134
  },
  {
   "metadata": {},
   "cell_type": "markdown",
   "source": "Lets look at the distribution a little bit",
   "id": "10f35c41d62ba298"
  },
  {
   "metadata": {
    "ExecuteTime": {
     "end_time": "2025-08-13T01:36:35.818659Z",
     "start_time": "2025-08-13T01:36:35.775629Z"
    }
   },
   "cell_type": "code",
   "source": "sns.boxplot(Filtered_SW_ON_Census_Data)",
   "id": "9085c8f5f6faff32",
   "outputs": [
    {
     "data": {
      "text/plain": [
       "<Axes: >"
      ]
     },
     "execution_count": 135,
     "metadata": {},
     "output_type": "execute_result"
    },
    {
     "data": {
      "text/plain": [
       "<Figure size 640x480 with 1 Axes>"
      ],
      "image/png": "[encoded data removed]"
     },
     "metadata": {},
     "output_type": "display_data"
    }
   ],
   "execution_count": 135
  },
  {
   "metadata": {
    "ExecuteTime": {
     "end_time": "2025-08-13T01:36:36.122315Z",
     "start_time": "2025-08-13T01:36:36.039234Z"
    }
   },
   "cell_type": "code",
   "source": "sns.histplot(Filtered_SW_ON_Census_Data, kde=False)",
   "id": "2ab68f22531c00ea",
   "outputs": [
    {
     "data": {
      "text/plain": [
       "<Axes: ylabel='Count'>"
      ]
     },
     "execution_count": 136,
     "metadata": {},
     "output_type": "execute_result"
    },
    {
     "data": {
      "text/plain": [
       "<Figure size 640x480 with 1 Axes>"
      ],
      "image/png": "[encoded data removed]"
     },
     "metadata": {},
     "output_type": "display_data"
    }
   ],
   "execution_count": 136
  },
  {
   "metadata": {},
   "cell_type": "markdown",
   "source": "Now we can make a multiplier per 1000 population to start normalizing everything else to.",
   "id": "2b15b6bbf8fdafa7"
  },
  {
   "metadata": {
    "ExecuteTime": {
     "end_time": "2025-08-13T01:36:36.156363Z",
     "start_time": "2025-08-13T01:36:36.153970Z"
    }
   },
   "cell_type": "code",
   "source": "Filtered_SW_ON_Census_Data['Per 1000 Multiplier'] = 1000 / Filtered_SW_ON_Census_Data['2021 Population']",
   "id": "191008424a1cfc5f",
   "outputs": [],
   "execution_count": 137
  },
  {
   "metadata": {},
   "cell_type": "markdown",
   "source": "Great - now let's pull in the COVID case data. This comes from the City of Toronto, and has a row for each case that includes the FSA (see a pattern yet?), the date of the case, as well as a few flags for signs of a more serious case such as intubation and hospital or ICU admission.",
   "id": "5a738f1e2ebeeefe"
  },
  {
   "metadata": {
    "ExecuteTime": {
     "end_time": "2025-08-13T01:36:36.507863Z",
     "start_time": "2025-08-13T01:36:36.187010Z"
    }
   },
   "cell_type": "code",
   "source": "covid_cases = pd.read_csv('COVID19 cases.csv')",
   "id": "fc4130aa1d065bcc",
   "outputs": [],
   "execution_count": 138
  },
  {
   "metadata": {
    "ExecuteTime": {
     "end_time": "2025-08-13T01:36:36.528877Z",
     "start_time": "2025-08-13T01:36:36.512872Z"
    }
   },
   "cell_type": "code",
   "source": "covid_cases_2020 = covid_cases[covid_cases['Episode Date'] < '2021-01-01']",
   "id": "4a40e086f67049c1",
   "outputs": [],
   "execution_count": 139
  },
  {
   "metadata": {
    "ExecuteTime": {
     "end_time": "2025-08-13T01:36:36.541430Z",
     "start_time": "2025-08-13T01:36:36.535378Z"
    }
   },
   "cell_type": "code",
   "source": "covid_cases_2020.head()",
   "id": "8e047ad376afd6d5",
   "outputs": [
    {
     "data": {
      "text/plain": [
       "   _id  Assigned_ID Outbreak Associated       Age Group  \\\n",
       "0    1            1                  NO  50 to 59 Years   \n",
       "1    2            2                  NO  50 to 59 Years   \n",
       "2    3            3                  NO  20 to 29 Years   \n",
       "3    4            4                  NO  60 to 69 Years   \n",
       "4    5            5                  NO  60 to 69 Years   \n",
       "\n",
       "      Neighbourhood Name  FSA Source of Infection Classification Episode Date  \\\n",
       "0        Willowdale East  M2N              Travel      CONFIRMED   2020-01-22   \n",
       "1        Willowdale East  M2N              Travel      CONFIRMED   2020-01-21   \n",
       "2      Parkwoods-Donalda  M3A              Travel      CONFIRMED   2020-02-05   \n",
       "3  Church-Yonge Corridor  M4W              Travel      CONFIRMED   2020-02-16   \n",
       "4  Church-Yonge Corridor  M4W              Travel      CONFIRMED   2020-02-20   \n",
       "\n",
       "  Reported Date Client Gender   Outcome Ever Hospitalized Ever in ICU  \\\n",
       "0    2020-01-23        FEMALE  RESOLVED                No          No   \n",
       "1    2020-01-23          MALE  RESOLVED               Yes          No   \n",
       "2    2020-02-21        FEMALE  RESOLVED                No          No   \n",
       "3    2020-02-25        FEMALE  RESOLVED                No          No   \n",
       "4    2020-02-26          MALE  RESOLVED                No          No   \n",
       "\n",
       "  Ever Intubated  \n",
       "0             No  \n",
       "1             No  \n",
       "2             No  \n",
       "3             No  \n",
       "4             No  "
      ],
      "text/html": [
       "<div>\n",
       "<style scoped>\n",
       "    .dataframe tbody tr th:only-of-type {\n",
       "        vertical-align: middle;\n",
       "    }\n",
       "\n",
       "    .dataframe tbody tr th {\n",
       "        vertical-align: top;\n",
       "    }\n",
       "\n",
       "    .dataframe thead th {\n",
       "        text-align: right;\n",
       "    }\n",
       "</style>\n",
       "<table border=\"1\" class=\"dataframe\">\n",
       "  <thead>\n",
       "    <tr style=\"text-align: right;\">\n",
       "      <th></th>\n",
       "      <th>_id</th>\n",
       "      <th>Assigned_ID</th>\n",
       "      <th>Outbreak Associated</th>\n",
       "      <th>Age Group</th>\n",
       "      <th>Neighbourhood Name</th>\n",
       "      <th>FSA</th>\n",
       "      <th>Source of Infection</th>\n",
       "      <th>Classification</th>\n",
       "      <th>Episode Date</th>\n",
       "      <th>Reported Date</th>\n",
       "      <th>Client Gender</th>\n",
       "      <th>Outcome</th>\n",
       "      <th>Ever Hospitalized</th>\n",
       "      <th>Ever in ICU</th>\n",
       "      <th>Ever Intubated</th>\n",
       "    </tr>\n",
       "  </thead>\n",
       "  <tbody>\n",
       "    <tr>\n",
       "      <th>0</th>\n",
       "      <td>1</td>\n",
       "      <td>1</td>\n",
       "      <td>NO</td>\n",
       "      <td>50 to 59 Years</td>\n",
       "      <td>Willowdale East</td>\n",
       "      <td>M2N</td>\n",
       "      <td>Travel</td>\n",
       "      <td>CONFIRMED</td>\n",
       "      <td>2020-01-22</td>\n",
       "      <td>2020-01-23</td>\n",
       "      <td>FEMALE</td>\n",
       "      <td>RESOLVED</td>\n",
       "      <td>No</td>\n",
       "      <td>No</td>\n",
       "      <td>No</td>\n",
       "    </tr>\n",
       "    <tr>\n",
       "      <th>1</th>\n",
       "      <td>2</td>\n",
       "      <td>2</td>\n",
       "      <td>NO</td>\n",
       "      <td>50 to 59 Years</td>\n",
       "      <td>Willowdale East</td>\n",
       "      <td>M2N</td>\n",
       "      <td>Travel</td>\n",
       "      <td>CONFIRMED</td>\n",
       "      <td>2020-01-21</td>\n",
       "      <td>2020-01-23</td>\n",
       "      <td>MALE</td>\n",
       "      <td>RESOLVED</td>\n",
       "      <td>Yes</td>\n",
       "      <td>No</td>\n",
       "      <td>No</td>\n",
       "    </tr>\n",
       "    <tr>\n",
       "      <th>2</th>\n",
       "      <td>3</td>\n",
       "      <td>3</td>\n",
       "      <td>NO</td>\n",
       "      <td>20 to 29 Years</td>\n",
       "      <td>Parkwoods-Donalda</td>\n",
       "      <td>M3A</td>\n",
       "      <td>Travel</td>\n",
       "      <td>CONFIRMED</td>\n",
       "      <td>2020-02-05</td>\n",
       "      <td>2020-02-21</td>\n",
       "      <td>FEMALE</td>\n",
       "      <td>RESOLVED</td>\n",
       "      <td>No</td>\n",
       "      <td>No</td>\n",
       "      <td>No</td>\n",
       "    </tr>\n",
       "    <tr>\n",
       "      <th>3</th>\n",
       "      <td>4</td>\n",
       "      <td>4</td>\n",
       "      <td>NO</td>\n",
       "      <td>60 to 69 Years</td>\n",
       "      <td>Church-Yonge Corridor</td>\n",
       "      <td>M4W</td>\n",
       "      <td>Travel</td>\n",
       "      <td>CONFIRMED</td>\n",
       "      <td>2020-02-16</td>\n",
       "      <td>2020-02-25</td>\n",
       "      <td>FEMALE</td>\n",
       "      <td>RESOLVED</td>\n",
       "      <td>No</td>\n",
       "      <td>No</td>\n",
       "      <td>No</td>\n",
       "    </tr>\n",
       "    <tr>\n",
       "      <th>4</th>\n",
       "      <td>5</td>\n",
       "      <td>5</td>\n",
       "      <td>NO</td>\n",
       "      <td>60 to 69 Years</td>\n",
       "      <td>Church-Yonge Corridor</td>\n",
       "      <td>M4W</td>\n",
       "      <td>Travel</td>\n",
       "      <td>CONFIRMED</td>\n",
       "      <td>2020-02-20</td>\n",
       "      <td>2020-02-26</td>\n",
       "      <td>MALE</td>\n",
       "      <td>RESOLVED</td>\n",
       "      <td>No</td>\n",
       "      <td>No</td>\n",
       "      <td>No</td>\n",
       "    </tr>\n",
       "  </tbody>\n",
       "</table>\n",
       "</div>"
      ]
     },
     "execution_count": 140,
     "metadata": {},
     "output_type": "execute_result"
    }
   ],
   "execution_count": 140
  },
  {
   "metadata": {
    "ExecuteTime": {
     "end_time": "2025-08-13T01:36:36.577198Z",
     "start_time": "2025-08-13T01:36:36.571772Z"
    }
   },
   "cell_type": "code",
   "source": "covid_cases_2020.value_counts('Age Group')",
   "id": "cce960168c2a3983",
   "outputs": [
    {
     "data": {
      "text/plain": [
       "Age Group\n",
       "20 to 29 Years    13318\n",
       "30 to 39 Years    11082\n",
       "50 to 59 Years     9876\n",
       "40 to 49 Years     9488\n",
       "19 and younger     8093\n",
       "60 to 69 Years     6323\n",
       "80 to 89 Years     3325\n",
       "70 to 79 Years     3320\n",
       "90 and older       2177\n",
       "Name: count, dtype: int64"
      ]
     },
     "execution_count": 141,
     "metadata": {},
     "output_type": "execute_result"
    }
   ],
   "execution_count": 141
  },
  {
   "metadata": {
    "ExecuteTime": {
     "end_time": "2025-08-13T01:36:36.681579Z",
     "start_time": "2025-08-13T01:36:36.674055Z"
    }
   },
   "cell_type": "code",
   "source": [
    "age_percentages = covid_cases_2020.value_counts('Age Group', normalize = True)\n",
    "age_counts = covid_cases_2020.value_counts('Age Group')"
   ],
   "id": "9015ef451a0b4925",
   "outputs": [],
   "execution_count": 142
  },
  {
   "metadata": {
    "ExecuteTime": {
     "end_time": "2025-08-13T01:36:36.727285Z",
     "start_time": "2025-08-13T01:36:36.723602Z"
    }
   },
   "cell_type": "code",
   "source": "Age_table = pd.merge(left = age_percentages, right = age_counts, on = 'Age Group')",
   "id": "f79caa124d1216b5",
   "outputs": [],
   "execution_count": 143
  },
  {
   "metadata": {
    "ExecuteTime": {
     "end_time": "2025-08-13T01:36:36.740432Z",
     "start_time": "2025-08-13T01:36:36.736291Z"
    }
   },
   "cell_type": "code",
   "source": "Age_table",
   "id": "439bc7600acf45fd",
   "outputs": [
    {
     "data": {
      "text/plain": [
       "                proportion  count\n",
       "Age Group                        \n",
       "20 to 29 Years    0.198770  13318\n",
       "30 to 39 Years    0.165398  11082\n",
       "50 to 59 Years    0.147399   9876\n",
       "40 to 49 Years    0.141608   9488\n",
       "19 and younger    0.120787   8093\n",
       "60 to 69 Years    0.094370   6323\n",
       "80 to 89 Years    0.049625   3325\n",
       "70 to 79 Years    0.049551   3320\n",
       "90 and older      0.032492   2177"
      ],
      "text/html": [
       "<div>\n",
       "<style scoped>\n",
       "    .dataframe tbody tr th:only-of-type {\n",
       "        vertical-align: middle;\n",
       "    }\n",
       "\n",
       "    .dataframe tbody tr th {\n",
       "        vertical-align: top;\n",
       "    }\n",
       "\n",
       "    .dataframe thead th {\n",
       "        text-align: right;\n",
       "    }\n",
       "</style>\n",
       "<table border=\"1\" class=\"dataframe\">\n",
       "  <thead>\n",
       "    <tr style=\"text-align: right;\">\n",
       "      <th></th>\n",
       "      <th>proportion</th>\n",
       "      <th>count</th>\n",
       "    </tr>\n",
       "    <tr>\n",
       "      <th>Age Group</th>\n",
       "      <th></th>\n",
       "      <th></th>\n",
       "    </tr>\n",
       "  </thead>\n",
       "  <tbody>\n",
       "    <tr>\n",
       "      <th>20 to 29 Years</th>\n",
       "      <td>0.198770</td>\n",
       "      <td>13318</td>\n",
       "    </tr>\n",
       "    <tr>\n",
       "      <th>30 to 39 Years</th>\n",
       "      <td>0.165398</td>\n",
       "      <td>11082</td>\n",
       "    </tr>\n",
       "    <tr>\n",
       "      <th>50 to 59 Years</th>\n",
       "      <td>0.147399</td>\n",
       "      <td>9876</td>\n",
       "    </tr>\n",
       "    <tr>\n",
       "      <th>40 to 49 Years</th>\n",
       "      <td>0.141608</td>\n",
       "      <td>9488</td>\n",
       "    </tr>\n",
       "    <tr>\n",
       "      <th>19 and younger</th>\n",
       "      <td>0.120787</td>\n",
       "      <td>8093</td>\n",
       "    </tr>\n",
       "    <tr>\n",
       "      <th>60 to 69 Years</th>\n",
       "      <td>0.094370</td>\n",
       "      <td>6323</td>\n",
       "    </tr>\n",
       "    <tr>\n",
       "      <th>80 to 89 Years</th>\n",
       "      <td>0.049625</td>\n",
       "      <td>3325</td>\n",
       "    </tr>\n",
       "    <tr>\n",
       "      <th>70 to 79 Years</th>\n",
       "      <td>0.049551</td>\n",
       "      <td>3320</td>\n",
       "    </tr>\n",
       "    <tr>\n",
       "      <th>90 and older</th>\n",
       "      <td>0.032492</td>\n",
       "      <td>2177</td>\n",
       "    </tr>\n",
       "  </tbody>\n",
       "</table>\n",
       "</div>"
      ]
     },
     "execution_count": 144,
     "metadata": {},
     "output_type": "execute_result"
    }
   ],
   "execution_count": 144
  },
  {
   "metadata": {
    "ExecuteTime": {
     "end_time": "2025-08-13T01:36:36.780530Z",
     "start_time": "2025-08-13T01:36:36.772946Z"
    }
   },
   "cell_type": "code",
   "source": [
    "percentages = covid_cases_2020.value_counts('Client Gender', normalize = True)\n",
    "counts = covid_cases_2020.value_counts('Client Gender')"
   ],
   "id": "163a8022dd1f263f",
   "outputs": [],
   "execution_count": 145
  },
  {
   "metadata": {
    "ExecuteTime": {
     "end_time": "2025-08-13T01:36:36.846257Z",
     "start_time": "2025-08-13T01:36:36.842065Z"
    }
   },
   "cell_type": "code",
   "source": "Gender_Table = pd.merge(left = percentages, right = counts, on = 'Client Gender')",
   "id": "9c84f0fee73a9d4d",
   "outputs": [],
   "execution_count": 146
  },
  {
   "metadata": {
    "ExecuteTime": {
     "end_time": "2025-08-13T01:36:36.892861Z",
     "start_time": "2025-08-13T01:36:36.888786Z"
    }
   },
   "cell_type": "code",
   "source": "Gender_Table['%'] = (Gender_Table['proportion'] * 100).round(1)",
   "id": "c41afff8417523a1",
   "outputs": [],
   "execution_count": 147
  },
  {
   "metadata": {
    "ExecuteTime": {
     "end_time": "2025-08-13T01:36:36.905654Z",
     "start_time": "2025-08-13T01:36:36.902867Z"
    }
   },
   "cell_type": "code",
   "source": "Gender_Table.drop('proportion', axis = 1, inplace = True)",
   "id": "430e273632e29b66",
   "outputs": [],
   "execution_count": 148
  },
  {
   "metadata": {
    "ExecuteTime": {
     "end_time": "2025-08-13T01:36:36.919165Z",
     "start_time": "2025-08-13T01:36:36.915160Z"
    }
   },
   "cell_type": "code",
   "source": "Gender_Table",
   "id": "46e840215af3358b",
   "outputs": [
    {
     "data": {
      "text/plain": [
       "               count     %\n",
       "Client Gender             \n",
       "FEMALE         34198  51.0\n",
       "MALE           32585  48.6\n",
       "UNKNOWN          234   0.3\n",
       "OTHER             12   0.0\n",
       "TRANSGENDER        9   0.0\n",
       "NON-BINARY         1   0.0\n",
       "TRANS WOMAN        1   0.0"
      ],
      "text/html": [
       "<div>\n",
       "<style scoped>\n",
       "    .dataframe tbody tr th:only-of-type {\n",
       "        vertical-align: middle;\n",
       "    }\n",
       "\n",
       "    .dataframe tbody tr th {\n",
       "        vertical-align: top;\n",
       "    }\n",
       "\n",
       "    .dataframe thead th {\n",
       "        text-align: right;\n",
       "    }\n",
       "</style>\n",
       "<table border=\"1\" class=\"dataframe\">\n",
       "  <thead>\n",
       "    <tr style=\"text-align: right;\">\n",
       "      <th></th>\n",
       "      <th>count</th>\n",
       "      <th>%</th>\n",
       "    </tr>\n",
       "    <tr>\n",
       "      <th>Client Gender</th>\n",
       "      <th></th>\n",
       "      <th></th>\n",
       "    </tr>\n",
       "  </thead>\n",
       "  <tbody>\n",
       "    <tr>\n",
       "      <th>FEMALE</th>\n",
       "      <td>34198</td>\n",
       "      <td>51.0</td>\n",
       "    </tr>\n",
       "    <tr>\n",
       "      <th>MALE</th>\n",
       "      <td>32585</td>\n",
       "      <td>48.6</td>\n",
       "    </tr>\n",
       "    <tr>\n",
       "      <th>UNKNOWN</th>\n",
       "      <td>234</td>\n",
       "      <td>0.3</td>\n",
       "    </tr>\n",
       "    <tr>\n",
       "      <th>OTHER</th>\n",
       "      <td>12</td>\n",
       "      <td>0.0</td>\n",
       "    </tr>\n",
       "    <tr>\n",
       "      <th>TRANSGENDER</th>\n",
       "      <td>9</td>\n",
       "      <td>0.0</td>\n",
       "    </tr>\n",
       "    <tr>\n",
       "      <th>NON-BINARY</th>\n",
       "      <td>1</td>\n",
       "      <td>0.0</td>\n",
       "    </tr>\n",
       "    <tr>\n",
       "      <th>TRANS WOMAN</th>\n",
       "      <td>1</td>\n",
       "      <td>0.0</td>\n",
       "    </tr>\n",
       "  </tbody>\n",
       "</table>\n",
       "</div>"
      ]
     },
     "execution_count": 149,
     "metadata": {},
     "output_type": "execute_result"
    }
   ],
   "execution_count": 149
  },
  {
   "metadata": {
    "ExecuteTime": {
     "end_time": "2025-08-13T01:36:37.004567Z",
     "start_time": "2025-08-13T01:36:36.949873Z"
    }
   },
   "cell_type": "code",
   "source": [
    "# Do a bit of data wrangling - get the date column to be a date, and turn yes/no columns into 1/0 columns for later.\n",
    "\n",
    "covid_cases['Episode Date'] = pd.to_datetime(covid_cases['Episode Date'])\n",
    "cols_to_convert = ['Ever Hospitalized', 'Ever in ICU', 'Ever Intubated']\n",
    "for col in cols_to_convert:\n",
    "    covid_cases[col] = covid_cases[col].map({'Yes': 1, 'No': 0})"
   ],
   "id": "cff3c83a2b329525",
   "outputs": [],
   "execution_count": 150
  },
  {
   "metadata": {},
   "cell_type": "markdown",
   "source": "Lets take a look at how the data is distributed and see if there's anything fun to see.",
   "id": "bc359dfd8d7efc8b"
  },
  {
   "metadata": {
    "ExecuteTime": {
     "end_time": "2025-08-13T01:36:37.040079Z",
     "start_time": "2025-08-13T01:36:37.027248Z"
    }
   },
   "cell_type": "code",
   "source": "FSA_Cases = covid_cases['FSA'].value_counts().to_frame()",
   "id": "cdc335107b9c584f",
   "outputs": [],
   "execution_count": 151
  },
  {
   "metadata": {
    "ExecuteTime": {
     "end_time": "2025-08-13T01:36:37.122413Z",
     "start_time": "2025-08-13T01:36:37.056583Z"
    }
   },
   "cell_type": "code",
   "source": "sns.histplot(FSA_Cases, bins=20)",
   "id": "eef0fdb4bd7fa934",
   "outputs": [
    {
     "data": {
      "text/plain": [
       "<Axes: ylabel='Count'>"
      ]
     },
     "execution_count": 152,
     "metadata": {},
     "output_type": "execute_result"
    },
    {
     "data": {
      "text/plain": [
       "<Figure size 640x480 with 1 Axes>"
      ],
      "image/png": "[encoded data removed]"
     },
     "metadata": {},
     "output_type": "display_data"
    }
   ],
   "execution_count": 152
  },
  {
   "metadata": {},
   "cell_type": "markdown",
   "source": [
    "Well that's...interesting - going in and looking at the data itself, there's a whole bunch of FSA with only a single case, and some hand checking reveals that they aren't real FSA's!\n",
    "\n",
    "Lets see what FSA's in there don't appear in the official list"
   ],
   "id": "df533d38d5f15d6d"
  },
  {
   "metadata": {
    "ExecuteTime": {
     "end_time": "2025-08-13T01:36:37.129417Z",
     "start_time": "2025-08-13T01:36:37.126915Z"
    }
   },
   "cell_type": "code",
   "source": "funky_FSA_codes = FSA_Cases[~FSA_Cases.index.isin(FSA_map['CFSAUID'])]",
   "id": "1a14adf50ae162d4",
   "outputs": [],
   "execution_count": 153
  },
  {
   "metadata": {
    "ExecuteTime": {
     "end_time": "2025-08-13T01:36:37.154881Z",
     "start_time": "2025-08-13T01:36:37.152424Z"
    }
   },
   "cell_type": "code",
   "source": "funky_FSA_codes['count'].sum()",
   "id": "552353b598992fbc",
   "outputs": [
    {
     "data": {
      "text/plain": [
       "np.int64(448)"
      ]
     },
     "execution_count": 154,
     "metadata": {},
     "output_type": "execute_result"
    }
   ],
   "execution_count": 154
  },
  {
   "metadata": {},
   "cell_type": "markdown",
   "source": "Given that these funky (erroneous) FSA's are such a small group out of the whole number of cases, I'm just going to get rid of them. I'm guessing they must be a data entry problem since Canada post has no record of any of them and ultimately I can't match them.",
   "id": "793faa4a71ee8bad"
  },
  {
   "metadata": {
    "ExecuteTime": {
     "end_time": "2025-08-13T01:36:37.176422Z",
     "start_time": "2025-08-13T01:36:37.173889Z"
    }
   },
   "cell_type": "code",
   "source": "Real_FSA_Cases = FSA_Cases[FSA_Cases.index.isin(FSA_map['CFSAUID'])]",
   "id": "134a104f024fc4de",
   "outputs": [],
   "execution_count": 155
  },
  {
   "metadata": {
    "ExecuteTime": {
     "end_time": "2025-08-13T01:36:37.202558Z",
     "start_time": "2025-08-13T01:36:37.197931Z"
    }
   },
   "cell_type": "code",
   "source": "Real_FSA_Cases.head()",
   "id": "9e79d2f6f2f64afe",
   "outputs": [
    {
     "data": {
      "text/plain": [
       "     count\n",
       "FSA       \n",
       "M9V  11914\n",
       "M1B  10949\n",
       "M3N   8513\n",
       "M9W   8177\n",
       "M1P   7904"
      ],
      "text/html": [
       "<div>\n",
       "<style scoped>\n",
       "    .dataframe tbody tr th:only-of-type {\n",
       "        vertical-align: middle;\n",
       "    }\n",
       "\n",
       "    .dataframe tbody tr th {\n",
       "        vertical-align: top;\n",
       "    }\n",
       "\n",
       "    .dataframe thead th {\n",
       "        text-align: right;\n",
       "    }\n",
       "</style>\n",
       "<table border=\"1\" class=\"dataframe\">\n",
       "  <thead>\n",
       "    <tr style=\"text-align: right;\">\n",
       "      <th></th>\n",
       "      <th>count</th>\n",
       "    </tr>\n",
       "    <tr>\n",
       "      <th>FSA</th>\n",
       "      <th></th>\n",
       "    </tr>\n",
       "  </thead>\n",
       "  <tbody>\n",
       "    <tr>\n",
       "      <th>M9V</th>\n",
       "      <td>11914</td>\n",
       "    </tr>\n",
       "    <tr>\n",
       "      <th>M1B</th>\n",
       "      <td>10949</td>\n",
       "    </tr>\n",
       "    <tr>\n",
       "      <th>M3N</th>\n",
       "      <td>8513</td>\n",
       "    </tr>\n",
       "    <tr>\n",
       "      <th>M9W</th>\n",
       "      <td>8177</td>\n",
       "    </tr>\n",
       "    <tr>\n",
       "      <th>M1P</th>\n",
       "      <td>7904</td>\n",
       "    </tr>\n",
       "  </tbody>\n",
       "</table>\n",
       "</div>"
      ]
     },
     "execution_count": 156,
     "metadata": {},
     "output_type": "execute_result"
    }
   ],
   "execution_count": 156
  },
  {
   "metadata": {
    "ExecuteTime": {
     "end_time": "2025-08-13T01:37:13.996444Z",
     "start_time": "2025-08-13T01:37:13.925108Z"
    }
   },
   "cell_type": "code",
   "source": [
    "sns.histplot(Real_FSA_Cases, bins=30)\n",
    "plt.xlabel('Number of Cases per FSA')\n",
    "plt.ylabel('Number of FSAs')\n",
    "plt.title('Distribution of COVID Cases Across Toronto Forward Sortation Areas (FSA)')\n",
    "plt.show()"
   ],
   "id": "4509a340ed57713c",
   "outputs": [
    {
     "data": {
      "text/plain": [
       "<Figure size 640x480 with 1 Axes>"
      ],
      "image/png": "[encoded data removed]"
     },
     "metadata": {},
     "output_type": "display_data"
    }
   ],
   "execution_count": 158
  },
  {
   "metadata": {},
   "cell_type": "markdown",
   "source": "Aaah, that's better already. Dare I say it's getting closer to normal? - now let's adjust per 1000 and see what that gets us.",
   "id": "9b8fa8b5b43c7354"
  },
  {
   "metadata": {
    "ExecuteTime": {
     "end_time": "2025-08-13T01:37:14.006589Z",
     "start_time": "2025-08-13T01:37:14.003452Z"
    }
   },
   "cell_type": "code",
   "source": "multiplier = Filtered_SW_ON_Census_Data.set_index('FSA')['Per 1000 Multiplier']",
   "id": "24c9d30c87ce8c59",
   "outputs": [],
   "execution_count": 159
  },
  {
   "metadata": {
    "ExecuteTime": {
     "end_time": "2025-08-13T01:37:14.032765Z",
     "start_time": "2025-08-13T01:37:14.029600Z"
    }
   },
   "cell_type": "code",
   "source": [
    "Real_FSA_Cases = Real_FSA_Cases.merge(\n",
    "    multiplier,\n",
    "    left_index=True,           # Use FSA index from Real_FSA_Cases\n",
    "    right_on='FSA',           # Match with FSA column in multiplier\n",
    "    how='left'                # Keep all rows from Real_FSA_Cases\n",
    ")"
   ],
   "id": "86e8649ec8a53293",
   "outputs": [],
   "execution_count": 160
  },
  {
   "metadata": {
    "ExecuteTime": {
     "end_time": "2025-08-13T01:37:14.041833Z",
     "start_time": "2025-08-13T01:37:14.039270Z"
    }
   },
   "cell_type": "code",
   "source": "Real_FSA_Cases['Covid Cases per 1000'] = Real_FSA_Cases['count'] * Real_FSA_Cases['Per 1000 Multiplier']\n",
   "id": "5106aa7a7d406647",
   "outputs": [],
   "execution_count": 161
  },
  {
   "metadata": {
    "ExecuteTime": {
     "end_time": "2025-08-13T01:37:14.099711Z",
     "start_time": "2025-08-13T01:37:14.046835Z"
    }
   },
   "cell_type": "code",
   "source": [
    "sns.histplot(data = Real_FSA_Cases, x = 'Covid Cases per 1000', bins=30)\n",
    "plt.show()"
   ],
   "id": "493e291b722025d",
   "outputs": [
    {
     "data": {
      "text/plain": [
       "<Figure size 640x480 with 1 Axes>"
      ],
      "image/png": "[encoded data removed]"
     },
     "metadata": {},
     "output_type": "display_data"
    }
   ],
   "execution_count": 162
  },
  {
   "metadata": {
    "ExecuteTime": {
     "end_time": "2025-08-13T01:37:14.138724Z",
     "start_time": "2025-08-13T01:37:14.104212Z"
    }
   },
   "cell_type": "code",
   "source": [
    "sns.boxplot(data = Real_FSA_Cases, x = 'Covid Cases per 1000')\n",
    "plt.show()"
   ],
   "id": "ec36eb779cdd6a71",
   "outputs": [
    {
     "data": {
      "text/plain": [
       "<Figure size 640x480 with 1 Axes>"
      ],
      "image/png": "[encoded data removed]"
     },
     "metadata": {},
     "output_type": "display_data"
    }
   ],
   "execution_count": 163
  },
  {
   "metadata": {},
   "cell_type": "markdown",
   "source": "Well that's lovely - I can work with that. Definitely some skew, but no outliers. Let's group our data weekly now to get it into a format we can begin comparing.",
   "id": "2edbf176344ab6c8"
  },
  {
   "metadata": {
    "ExecuteTime": {
     "end_time": "2025-08-13T01:37:14.182335Z",
     "start_time": "2025-08-13T01:37:14.142725Z"
    }
   },
   "cell_type": "code",
   "source": [
    "# Drop the non-real FSA's the same way we did on the area sums\n",
    "\n",
    "covid_cases = covid_cases[covid_cases['FSA'].isin(FSA_map['CFSAUID'])]"
   ],
   "id": "62d3dabc9dc5f3b4",
   "outputs": [],
   "execution_count": 164
  },
  {
   "metadata": {
    "ExecuteTime": {
     "end_time": "2025-08-13T01:37:14.190835Z",
     "start_time": "2025-08-13T01:37:14.187835Z"
    }
   },
   "cell_type": "code",
   "source": "covid_cases.shape",
   "id": "2028b2e3bfe053b6",
   "outputs": [
    {
     "data": {
      "text/plain": [
       "(406154, 15)"
      ]
     },
     "execution_count": 165,
     "metadata": {},
     "output_type": "execute_result"
    }
   ],
   "execution_count": 165
  },
  {
   "metadata": {
    "ExecuteTime": {
     "end_time": "2025-08-13T01:37:14.392566Z",
     "start_time": "2025-08-13T01:37:14.209340Z"
    }
   },
   "cell_type": "code",
   "source": [
    "covid_weekly_cases = covid_cases.groupby([\n",
    "    pd.Grouper(key = 'Episode Date', freq = 'W'),\n",
    "    'FSA'\n",
    "]).agg({\n",
    "      'Ever Hospitalized': 'sum', # these sums work because 1 = True in here\n",
    "    'Ever in ICU': 'sum',\n",
    "    'Ever Intubated': 'sum',\n",
    "    '_id': 'nunique' # _id is the unique case id - there's no patient level identifier so there's a possibility the same person with different\n",
    "})"
   ],
   "id": "ee0dd4071ede5242",
   "outputs": [],
   "execution_count": 166
  },
  {
   "metadata": {
    "ExecuteTime": {
     "end_time": "2025-08-13T01:37:14.402299Z",
     "start_time": "2025-08-13T01:37:14.399570Z"
    }
   },
   "cell_type": "code",
   "source": "covid_weekly_cases.rename({'_id': 'Weekly Cases'}, axis=1, inplace=True)",
   "id": "5e5b47599a41197f",
   "outputs": [],
   "execution_count": 167
  },
  {
   "metadata": {
    "ExecuteTime": {
     "end_time": "2025-08-13T01:37:14.416060Z",
     "start_time": "2025-08-13T01:37:14.407800Z"
    }
   },
   "cell_type": "code",
   "source": [
    "columns_to_normalize = ['Weekly Cases', 'Ever Hospitalized', 'Ever in ICU', 'Ever Intubated']\n",
    "\n",
    "for col in columns_to_normalize:\n",
    "    new_col_name = f'{col} per 1000'\n",
    "    covid_weekly_cases.loc[:, new_col_name] = covid_weekly_cases[col] * covid_weekly_cases.index.get_level_values('FSA').map(multiplier)"
   ],
   "id": "6498a0c5a5e524a3",
   "outputs": [],
   "execution_count": 168
  },
  {
   "metadata": {
    "ExecuteTime": {
     "end_time": "2025-08-13T01:37:14.427136Z",
     "start_time": "2025-08-13T01:37:14.422066Z"
    }
   },
   "cell_type": "code",
   "source": "covid_weekly_cases.head()",
   "id": "1147490c3bfd71e9",
   "outputs": [
    {
     "data": {
      "text/plain": [
       "                  Ever Hospitalized  Ever in ICU  Ever Intubated  \\\n",
       "Episode Date FSA                                                   \n",
       "2020-01-26   M2N                  1            0               0   \n",
       "             M5G                  0            0               0   \n",
       "2020-02-02   M2L                  0            0               0   \n",
       "             M6M                  0            0               0   \n",
       "2020-02-09   M3A                  0            0               0   \n",
       "\n",
       "                  Weekly Cases  Weekly Cases per 1000  \\\n",
       "Episode Date FSA                                        \n",
       "2020-01-26   M2N             2               0.026631   \n",
       "             M5G             1               0.102554   \n",
       "2020-02-02   M2L             1               0.088700   \n",
       "             M6M             1               0.023726   \n",
       "2020-02-09   M3A             1               0.029103   \n",
       "\n",
       "                  Ever Hospitalized per 1000  Ever in ICU per 1000  \\\n",
       "Episode Date FSA                                                     \n",
       "2020-01-26   M2N                    0.013316                   0.0   \n",
       "             M5G                    0.000000                   0.0   \n",
       "2020-02-02   M2L                    0.000000                   0.0   \n",
       "             M6M                    0.000000                   0.0   \n",
       "2020-02-09   M3A                    0.000000                   0.0   \n",
       "\n",
       "                  Ever Intubated per 1000  \n",
       "Episode Date FSA                           \n",
       "2020-01-26   M2N                      0.0  \n",
       "             M5G                      0.0  \n",
       "2020-02-02   M2L                      0.0  \n",
       "             M6M                      0.0  \n",
       "2020-02-09   M3A                      0.0  "
      ],
      "text/html": [
       "<div>\n",
       "<style scoped>\n",
       "    .dataframe tbody tr th:only-of-type {\n",
       "        vertical-align: middle;\n",
       "    }\n",
       "\n",
       "    .dataframe tbody tr th {\n",
       "        vertical-align: top;\n",
       "    }\n",
       "\n",
       "    .dataframe thead th {\n",
       "        text-align: right;\n",
       "    }\n",
       "</style>\n",
       "<table border=\"1\" class=\"dataframe\">\n",
       "  <thead>\n",
       "    <tr style=\"text-align: right;\">\n",
       "      <th></th>\n",
       "      <th></th>\n",
       "      <th>Ever Hospitalized</th>\n",
       "      <th>Ever in ICU</th>\n",
       "      <th>Ever Intubated</th>\n",
       "      <th>Weekly Cases</th>\n",
       "      <th>Weekly Cases per 1000</th>\n",
       "      <th>Ever Hospitalized per 1000</th>\n",
       "      <th>Ever in ICU per 1000</th>\n",
       "      <th>Ever Intubated per 1000</th>\n",
       "    </tr>\n",
       "    <tr>\n",
       "      <th>Episode Date</th>\n",
       "      <th>FSA</th>\n",
       "      <th></th>\n",
       "      <th></th>\n",
       "      <th></th>\n",
       "      <th></th>\n",
       "      <th></th>\n",
       "      <th></th>\n",
       "      <th></th>\n",
       "      <th></th>\n",
       "    </tr>\n",
       "  </thead>\n",
       "  <tbody>\n",
       "    <tr>\n",
       "      <th rowspan=\"2\" valign=\"top\">2020-01-26</th>\n",
       "      <th>M2N</th>\n",
       "      <td>1</td>\n",
       "      <td>0</td>\n",
       "      <td>0</td>\n",
       "      <td>2</td>\n",
       "      <td>0.026631</td>\n",
       "      <td>0.013316</td>\n",
       "      <td>0.0</td>\n",
       "      <td>0.0</td>\n",
       "    </tr>\n",
       "    <tr>\n",
       "      <th>M5G</th>\n",
       "      <td>0</td>\n",
       "      <td>0</td>\n",
       "      <td>0</td>\n",
       "      <td>1</td>\n",
       "      <td>0.102554</td>\n",
       "      <td>0.000000</td>\n",
       "      <td>0.0</td>\n",
       "      <td>0.0</td>\n",
       "    </tr>\n",
       "    <tr>\n",
       "      <th rowspan=\"2\" valign=\"top\">2020-02-02</th>\n",
       "      <th>M2L</th>\n",
       "      <td>0</td>\n",
       "      <td>0</td>\n",
       "      <td>0</td>\n",
       "      <td>1</td>\n",
       "      <td>0.088700</td>\n",
       "      <td>0.000000</td>\n",
       "      <td>0.0</td>\n",
       "      <td>0.0</td>\n",
       "    </tr>\n",
       "    <tr>\n",
       "      <th>M6M</th>\n",
       "      <td>0</td>\n",
       "      <td>0</td>\n",
       "      <td>0</td>\n",
       "      <td>1</td>\n",
       "      <td>0.023726</td>\n",
       "      <td>0.000000</td>\n",
       "      <td>0.0</td>\n",
       "      <td>0.0</td>\n",
       "    </tr>\n",
       "    <tr>\n",
       "      <th>2020-02-09</th>\n",
       "      <th>M3A</th>\n",
       "      <td>0</td>\n",
       "      <td>0</td>\n",
       "      <td>0</td>\n",
       "      <td>1</td>\n",
       "      <td>0.029103</td>\n",
       "      <td>0.000000</td>\n",
       "      <td>0.0</td>\n",
       "      <td>0.0</td>\n",
       "    </tr>\n",
       "  </tbody>\n",
       "</table>\n",
       "</div>"
      ]
     },
     "execution_count": 169,
     "metadata": {},
     "output_type": "execute_result"
    }
   ],
   "execution_count": 169
  },
  {
   "metadata": {},
   "cell_type": "markdown",
   "source": "Okay, now getting the EMS calls - these are published by Toronto Paramedic Services, and give data on the FSA (there's definitely a pattern now), the dispatch triage priority, as well as a few other pieces. It comes in a big spreadsheet, so we're only going to pull the tab for 2020",
   "id": "5db5423c73d4f436"
  },
  {
   "metadata": {
    "ExecuteTime": {
     "end_time": "2025-08-13T01:37:21.855005Z",
     "start_time": "2025-08-13T01:37:14.461149Z"
    }
   },
   "cell_type": "code",
   "source": "EMS_calls = pd.read_excel('paramedic-services-incident-data-2017-2022.xlsx', sheet_name='2020')\n",
   "id": "98781b48075dad5",
   "outputs": [],
   "execution_count": 170
  },
  {
   "metadata": {
    "ExecuteTime": {
     "end_time": "2025-08-13T01:37:21.937270Z",
     "start_time": "2025-08-13T01:37:21.933270Z"
    }
   },
   "cell_type": "code",
   "source": "EMS_calls.head()",
   "id": "aa9c97cdd8335688",
   "outputs": [
    {
     "data": {
      "text/plain": [
       "        ID       Dispatch_Time Incident_Type  Priority_Number  \\\n",
       "0  6659063 2020-03-16 17:04:01          Fire                1   \n",
       "1  6637804 2020-02-26 17:12:36       Medical                1   \n",
       "2  6829985 2020-09-02 02:04:06       Medical                1   \n",
       "3  6726730 2020-05-26 16:09:41       Medical                1   \n",
       "4  6761768 2020-06-30 05:02:40          Fire                3   \n",
       "\n",
       "   Units_Arrived_At_Scene Forward_Sortation_Area  \n",
       "0                      14                    M9W  \n",
       "1                      11                    M5B  \n",
       "2                      10                    M6E  \n",
       "3                       9                    M5V  \n",
       "4                       9                    M3J  "
      ],
      "text/html": [
       "<div>\n",
       "<style scoped>\n",
       "    .dataframe tbody tr th:only-of-type {\n",
       "        vertical-align: middle;\n",
       "    }\n",
       "\n",
       "    .dataframe tbody tr th {\n",
       "        vertical-align: top;\n",
       "    }\n",
       "\n",
       "    .dataframe thead th {\n",
       "        text-align: right;\n",
       "    }\n",
       "</style>\n",
       "<table border=\"1\" class=\"dataframe\">\n",
       "  <thead>\n",
       "    <tr style=\"text-align: right;\">\n",
       "      <th></th>\n",
       "      <th>ID</th>\n",
       "      <th>Dispatch_Time</th>\n",
       "      <th>Incident_Type</th>\n",
       "      <th>Priority_Number</th>\n",
       "      <th>Units_Arrived_At_Scene</th>\n",
       "      <th>Forward_Sortation_Area</th>\n",
       "    </tr>\n",
       "  </thead>\n",
       "  <tbody>\n",
       "    <tr>\n",
       "      <th>0</th>\n",
       "      <td>6659063</td>\n",
       "      <td>2020-03-16 17:04:01</td>\n",
       "      <td>Fire</td>\n",
       "      <td>1</td>\n",
       "      <td>14</td>\n",
       "      <td>M9W</td>\n",
       "    </tr>\n",
       "    <tr>\n",
       "      <th>1</th>\n",
       "      <td>6637804</td>\n",
       "      <td>2020-02-26 17:12:36</td>\n",
       "      <td>Medical</td>\n",
       "      <td>1</td>\n",
       "      <td>11</td>\n",
       "      <td>M5B</td>\n",
       "    </tr>\n",
       "    <tr>\n",
       "      <th>2</th>\n",
       "      <td>6829985</td>\n",
       "      <td>2020-09-02 02:04:06</td>\n",
       "      <td>Medical</td>\n",
       "      <td>1</td>\n",
       "      <td>10</td>\n",
       "      <td>M6E</td>\n",
       "    </tr>\n",
       "    <tr>\n",
       "      <th>3</th>\n",
       "      <td>6726730</td>\n",
       "      <td>2020-05-26 16:09:41</td>\n",
       "      <td>Medical</td>\n",
       "      <td>1</td>\n",
       "      <td>9</td>\n",
       "      <td>M5V</td>\n",
       "    </tr>\n",
       "    <tr>\n",
       "      <th>4</th>\n",
       "      <td>6761768</td>\n",
       "      <td>2020-06-30 05:02:40</td>\n",
       "      <td>Fire</td>\n",
       "      <td>3</td>\n",
       "      <td>9</td>\n",
       "      <td>M3J</td>\n",
       "    </tr>\n",
       "  </tbody>\n",
       "</table>\n",
       "</div>"
      ]
     },
     "execution_count": 171,
     "metadata": {},
     "output_type": "execute_result"
    }
   ],
   "execution_count": 171
  },
  {
   "metadata": {
    "ExecuteTime": {
     "end_time": "2025-08-13T01:37:21.999421Z",
     "start_time": "2025-08-13T01:37:21.996919Z"
    }
   },
   "cell_type": "code",
   "source": "EMS_calls.shape",
   "id": "a438378a13568a54",
   "outputs": [
    {
     "data": {
      "text/plain": [
       "(270600, 6)"
      ]
     },
     "execution_count": 172,
     "metadata": {},
     "output_type": "execute_result"
    }
   ],
   "execution_count": 172
  },
  {
   "metadata": {
    "ExecuteTime": {
     "end_time": "2025-08-13T01:37:22.085696Z",
     "start_time": "2025-08-13T01:37:22.077190Z"
    }
   },
   "cell_type": "code",
   "source": "EMS_calls.Forward_Sortation_Area.value_counts().get('-')",
   "id": "8f3ce19098b1af3f",
   "outputs": [
    {
     "data": {
      "text/plain": [
       "np.int64(70)"
      ]
     },
     "execution_count": 173,
     "metadata": {},
     "output_type": "execute_result"
    }
   ],
   "execution_count": 173
  },
  {
   "metadata": {
    "ExecuteTime": {
     "end_time": "2025-08-13T01:37:22.156084Z",
     "start_time": "2025-08-13T01:37:22.141214Z"
    }
   },
   "cell_type": "code",
   "source": [
    "# there's 177 events where we don't have an FSA - just going to filter those out for lack of a better idea\n",
    "EMS_calls = EMS_calls[EMS_calls.Forward_Sortation_Area != '-']"
   ],
   "id": "b3cdd2dc5e0d3a85",
   "outputs": [],
   "execution_count": 174
  },
  {
   "metadata": {},
   "cell_type": "markdown",
   "source": [
    "Toronto uses some funky priority codes, according to the readme from the dataset:\n",
    "\n",
    "| Priority | Description |\n",
    "|----------|-------------|\n",
    "| 1        | Delta       |\n",
    "| 3        | Charlie     |\n",
    "| 4        | Bravo       |\n",
    "| 5        | Alpha       |\n",
    "| 9        | Echo        |\n",
    "| 11       | Alpha1      |\n",
    "| 12       | Alpha2      |\n",
    "| 13       | Alpha3      |\n",
    "| 14       | Code 2      |\n",
    "\n",
    "Going to map these to a smaller list of readable values then get dummy variables to go along with them. Also taking out Code 2, since it's for scheduled transfers.\n",
    "\n"
   ],
   "id": "249636961ccda6b8"
  },
  {
   "metadata": {
    "ExecuteTime": {
     "end_time": "2025-08-13T01:37:22.167920Z",
     "start_time": "2025-08-13T01:37:22.163087Z"
    }
   },
   "cell_type": "code",
   "source": [
    "Priority_name_map = {\n",
    "    9: 'Resuscitation',\n",
    "    1: 'High',\n",
    "    3: 'High',\n",
    "    4: 'Low',\n",
    "    5: 'Low',\n",
    "    11: 'Low',\n",
    "    12: 'Low',\n",
    "    13: 'Low'\n",
    "}\n",
    "\n",
    "EMS_calls['Priority_Name'] = EMS_calls['Priority_Number'].map(Priority_name_map)"
   ],
   "id": "c352ddd971ed6519",
   "outputs": [],
   "execution_count": 175
  },
  {
   "metadata": {
    "ExecuteTime": {
     "end_time": "2025-08-13T01:37:22.194526Z",
     "start_time": "2025-08-13T01:37:22.172927Z"
    }
   },
   "cell_type": "code",
   "source": "EMS_calls = pd.get_dummies(EMS_calls, columns = ['Priority_Name'])",
   "id": "35a915cdd738de19",
   "outputs": [],
   "execution_count": 176
  },
  {
   "metadata": {
    "ExecuteTime": {
     "end_time": "2025-08-13T01:37:22.217303Z",
     "start_time": "2025-08-13T01:37:22.200028Z"
    }
   },
   "cell_type": "code",
   "source": [
    "Filtered_EMS_calls = EMS_calls[\n",
    "    (EMS_calls['Incident_Type'] == 'Medical') &\n",
    "    (EMS_calls['Units_Arrived_At_Scene'].between(1, 3, inclusive='both'))\n",
    "]"
   ],
   "id": "12386ad4c0d42677",
   "outputs": [],
   "execution_count": 177
  },
  {
   "metadata": {
    "ExecuteTime": {
     "end_time": "2025-08-13T01:37:22.228605Z",
     "start_time": "2025-08-13T01:37:22.222806Z"
    }
   },
   "cell_type": "code",
   "source": "Filtered_EMS_calls = Filtered_EMS_calls.rename(columns = {'Forward_Sortation_Area': 'FSA'})",
   "id": "eb38d7b97456ddf8",
   "outputs": [],
   "execution_count": 178
  },
  {
   "metadata": {
    "ExecuteTime": {
     "end_time": "2025-08-13T01:37:22.236870Z",
     "start_time": "2025-08-13T01:37:22.234106Z"
    }
   },
   "cell_type": "code",
   "source": "Filtered_EMS_calls.shape",
   "id": "8d68cd1defd3690a",
   "outputs": [
    {
     "data": {
      "text/plain": [
       "(253936, 9)"
      ]
     },
     "execution_count": 179,
     "metadata": {},
     "output_type": "execute_result"
    }
   ],
   "execution_count": 179
  },
  {
   "metadata": {},
   "cell_type": "markdown",
   "source": "Now we can look at it and see if we're actually making sense now",
   "id": "98e49fe7541272f6"
  },
  {
   "metadata": {
    "ExecuteTime": {
     "end_time": "2025-08-13T01:37:22.262470Z",
     "start_time": "2025-08-13T01:37:22.254685Z"
    }
   },
   "cell_type": "code",
   "source": "FSA_Calls = Filtered_EMS_calls['FSA'].value_counts().to_frame()",
   "id": "c70909860657462c",
   "outputs": [],
   "execution_count": 180
  },
  {
   "metadata": {
    "ExecuteTime": {
     "end_time": "2025-08-13T01:37:22.319806Z",
     "start_time": "2025-08-13T01:37:22.276977Z"
    }
   },
   "cell_type": "code",
   "source": "sns.boxplot(data = FSA_Calls, x = 'count')",
   "id": "53fb4ef5e46dccb2",
   "outputs": [
    {
     "data": {
      "text/plain": [
       "<Axes: xlabel='count'>"
      ]
     },
     "execution_count": 181,
     "metadata": {},
     "output_type": "execute_result"
    },
    {
     "data": {
      "text/plain": [
       "<Figure size 640x480 with 1 Axes>"
      ],
      "image/png": "[encoded data removed]"
     },
     "metadata": {},
     "output_type": "display_data"
    }
   ],
   "execution_count": 181
  },
  {
   "metadata": {
    "ExecuteTime": {
     "end_time": "2025-08-13T01:37:22.408055Z",
     "start_time": "2025-08-13T01:37:22.340815Z"
    }
   },
   "cell_type": "code",
   "source": "sns.histplot(data = FSA_Calls)",
   "id": "fd45e5c0cb6c37c4",
   "outputs": [
    {
     "data": {
      "text/plain": [
       "<Axes: ylabel='Count'>"
      ]
     },
     "execution_count": 182,
     "metadata": {},
     "output_type": "execute_result"
    },
    {
     "data": {
      "text/plain": [
       "<Figure size 640x480 with 1 Axes>"
      ],
      "image/png": "[encoded data removed]"
     },
     "metadata": {},
     "output_type": "display_data"
    }
   ],
   "execution_count": 182
  },
  {
   "metadata": {},
   "cell_type": "markdown",
   "source": "Well - that's a right skew for sure, let's normalize and see what we get",
   "id": "a6f8883f81284eb1"
  },
  {
   "metadata": {
    "ExecuteTime": {
     "end_time": "2025-08-13T01:37:22.432252Z",
     "start_time": "2025-08-13T01:37:22.429075Z"
    }
   },
   "cell_type": "code",
   "source": "FSA_Calls.loc[:, 'EMS per 1000'] = FSA_Calls['count'] * FSA_Calls.index.map(multiplier)",
   "id": "a831b26048a59d31",
   "outputs": [],
   "execution_count": 183
  },
  {
   "metadata": {
    "ExecuteTime": {
     "end_time": "2025-08-13T01:37:22.482125Z",
     "start_time": "2025-08-13T01:37:22.441758Z"
    }
   },
   "cell_type": "code",
   "source": "sns.boxplot(data = FSA_Calls, x = 'EMS per 1000')",
   "id": "9c77baed6d5c6570",
   "outputs": [
    {
     "data": {
      "text/plain": [
       "<Axes: xlabel='EMS per 1000'>"
      ]
     },
     "execution_count": 184,
     "metadata": {},
     "output_type": "execute_result"
    },
    {
     "data": {
      "text/plain": [
       "<Figure size 640x480 with 1 Axes>"
      ],
      "image/png": "[encoded data removed]"
     },
     "metadata": {},
     "output_type": "display_data"
    }
   ],
   "execution_count": 184
  },
  {
   "metadata": {},
   "cell_type": "markdown",
   "source": "Well that's better - a better distribution, though there's more outliers",
   "id": "cd7d14d451b5f40"
  },
  {
   "metadata": {
    "ExecuteTime": {
     "end_time": "2025-08-13T01:37:22.546978Z",
     "start_time": "2025-08-13T01:37:22.490634Z"
    }
   },
   "cell_type": "code",
   "source": [
    "EMS_weekly_cases = Filtered_EMS_calls.groupby([\n",
    "    pd.Grouper(key='Dispatch_Time', freq='W'),\n",
    "    'FSA'\n",
    "]).agg({\n",
    "    'ID': 'nunique',\n",
    "    'Priority_Name_High' : 'sum',\n",
    "    'Priority_Name_Low' : 'sum',\n",
    "    'Priority_Name_Resuscitation' : 'sum'\n",
    "}).reset_index()"
   ],
   "id": "6f38d73659c3f786",
   "outputs": [],
   "execution_count": 185
  },
  {
   "metadata": {
    "ExecuteTime": {
     "end_time": "2025-08-13T01:37:22.556835Z",
     "start_time": "2025-08-13T01:37:22.553484Z"
    }
   },
   "cell_type": "code",
   "source": [
    "covid_weekly_cases = covid_weekly_cases.rename({'Episode Date':'Week Start'},axis = 1)\n",
    "EMS_weekly_cases = EMS_weekly_cases.rename({'Dispatch_Time':'Week Start', 'ID': 'EMS Calls'},axis = 1)"
   ],
   "id": "6a421edffdb6af6",
   "outputs": [],
   "execution_count": 186
  },
  {
   "metadata": {
    "ExecuteTime": {
     "end_time": "2025-08-13T01:37:22.568846Z",
     "start_time": "2025-08-13T01:37:22.565343Z"
    }
   },
   "cell_type": "code",
   "source": "EMS_weekly_cases.loc[:, 'Weekly EMS Calls per 1000'] = EMS_weekly_cases['EMS Calls'] * EMS_weekly_cases['FSA'].map(multiplier)",
   "id": "c8a5b4771a59fc58",
   "outputs": [],
   "execution_count": 187
  },
  {
   "metadata": {
    "ExecuteTime": {
     "end_time": "2025-08-13T01:37:22.577808Z",
     "start_time": "2025-08-13T01:37:22.575348Z"
    }
   },
   "cell_type": "code",
   "source": "EMS_weekly_cases.loc[:, '% of calls are High Acuity'] = (EMS_weekly_cases['Priority_Name_High'] + EMS_weekly_cases['Priority_Name_Resuscitation']) / EMS_weekly_cases['EMS Calls']\n",
   "id": "ad8f6ba829234772",
   "outputs": [],
   "execution_count": 188
  },
  {
   "metadata": {
    "ExecuteTime": {
     "end_time": "2025-08-13T01:37:22.587321Z",
     "start_time": "2025-08-13T01:37:22.583317Z"
    }
   },
   "cell_type": "code",
   "source": [
    "#Attach a geometry to each of these weeks\n",
    "EMS_weekly_cases = EMS_weekly_cases.merge(FSA_map, left_on = 'FSA', right_on = 'CFSAUID', how = 'left')"
   ],
   "id": "65068ebd4b11e582",
   "outputs": [],
   "execution_count": 189
  },
  {
   "metadata": {
    "ExecuteTime": {
     "end_time": "2025-08-13T01:37:22.597108Z",
     "start_time": "2025-08-13T01:37:22.593826Z"
    }
   },
   "cell_type": "code",
   "source": "gdf_EMS_weekly_cases = geopandas.GeoDataFrame(EMS_weekly_cases, geometry = 'geometry')",
   "id": "e53f91d4b825ecba",
   "outputs": [],
   "execution_count": 190
  },
  {
   "metadata": {},
   "cell_type": "markdown",
   "source": "Now there's a stack of NaN in the new calls per 100 column - wonder if all the calls are actually in Toronto to get a number from?",
   "id": "b8b34f9d47031e94"
  },
  {
   "metadata": {
    "ExecuteTime": {
     "end_time": "2025-08-13T01:37:26.807117Z",
     "start_time": "2025-08-13T01:37:22.604114Z"
    }
   },
   "cell_type": "code",
   "source": "gdf_EMS_weekly_cases.plot(column = 'EMS Calls', legend = True)",
   "id": "e8ac5c082a7c5ff3",
   "outputs": [
    {
     "data": {
      "text/plain": [
       "<Axes: >"
      ]
     },
     "execution_count": 191,
     "metadata": {},
     "output_type": "execute_result"
    },
    {
     "data": {
      "text/plain": [
       "<Figure size 640x480 with 2 Axes>"
      ],
      "image/png": "[encoded data removed]"
     },
     "metadata": {},
     "output_type": "display_data"
    }
   ],
   "execution_count": 191
  },
  {
   "metadata": {},
   "cell_type": "markdown",
   "source": "Wait a second! There's way more there than just Toronto - lets filter it down. Looks like we can just drop columns where there wasn't a value since those are areas without pop data for Toronto itself.",
   "id": "3f8266ca2bca5270"
  },
  {
   "metadata": {
    "ExecuteTime": {
     "end_time": "2025-08-13T01:37:26.858781Z",
     "start_time": "2025-08-13T01:37:26.855291Z"
    }
   },
   "cell_type": "code",
   "source": "EMS_weekly_cases = EMS_weekly_cases[EMS_weekly_cases['Weekly EMS Calls per 1000'].notna()]",
   "id": "d2501a344f0f56b",
   "outputs": [],
   "execution_count": 192
  },
  {
   "metadata": {},
   "cell_type": "markdown",
   "source": "Now we can actually merge our data and see things!",
   "id": "22ddd4f8faf80cf7"
  },
  {
   "metadata": {
    "ExecuteTime": {
     "end_time": "2025-08-13T01:37:26.875536Z",
     "start_time": "2025-08-13T01:37:26.867783Z"
    }
   },
   "cell_type": "code",
   "source": "weekly_data = covid_weekly_cases.merge(EMS_weekly_cases, left_index = True, right_on =['Week Start', 'FSA'] )",
   "id": "8f52eb23af901037",
   "outputs": [],
   "execution_count": 193
  },
  {
   "metadata": {
    "ExecuteTime": {
     "end_time": "2025-08-13T01:37:26.884755Z",
     "start_time": "2025-08-13T01:37:26.880045Z"
    }
   },
   "cell_type": "code",
   "source": "weekly_data = weekly_data.set_index(['Week Start', 'FSA'])",
   "id": "408f78382e4d78da",
   "outputs": [],
   "execution_count": 194
  },
  {
   "metadata": {
    "ExecuteTime": {
     "end_time": "2025-08-13T01:37:27.014842Z",
     "start_time": "2025-08-13T01:37:26.890260Z"
    }
   },
   "cell_type": "code",
   "source": "sns.scatterplot(weekly_data, x = 'Weekly Cases per 1000', y = 'Weekly EMS Calls per 1000', hue = 'FSA', legend = None, alpha = 0.5)",
   "id": "d00ce282872596f2",
   "outputs": [
    {
     "data": {
      "text/plain": [
       "<Axes: xlabel='Weekly Cases per 1000', ylabel='Weekly EMS Calls per 1000'>"
      ]
     },
     "execution_count": 195,
     "metadata": {},
     "output_type": "execute_result"
    },
    {
     "data": {
      "text/plain": [
       "<Figure size 640x480 with 1 Axes>"
      ],
      "image/png": "[encoded data removed]"
     },
     "metadata": {},
     "output_type": "display_data"
    }
   ],
   "execution_count": 195
  },
  {
   "metadata": {},
   "cell_type": "markdown",
   "source": "Well. We can see the baseline EMS volume, and an interesting pattern where certain FSA's appear to have a high base volume but relatively consistently low case volume. Let's look at some averages as time goes by.",
   "id": "a4a261cd3166f4c"
  },
  {
   "metadata": {
    "ExecuteTime": {
     "end_time": "2025-08-13T01:37:27.134079Z",
     "start_time": "2025-08-13T01:37:27.035353Z"
    }
   },
   "cell_type": "code",
   "source": [
    "weekly_data.reset_index().groupby('Week Start').agg({\n",
    "    'Weekly Cases per 1000': 'sum',\n",
    "    'Weekly EMS Calls per 1000': 'sum'\n",
    "}).plot(subplots=False, figsize=(12,8))"
   ],
   "id": "280910f9b520f646",
   "outputs": [
    {
     "data": {
      "text/plain": [
       "<Axes: xlabel='Week Start'>"
      ]
     },
     "execution_count": 196,
     "metadata": {},
     "output_type": "execute_result"
    },
    {
     "data": {
      "text/plain": [
       "<Figure size 1200x800 with 1 Axes>"
      ],
      "image/png": "[encoded data removed]"
     },
     "metadata": {},
     "output_type": "display_data"
    }
   ],
   "execution_count": 196
  },
  {
   "metadata": {},
   "cell_type": "markdown",
   "source": "",
   "id": "d1693cc53e9d37f1"
  },
  {
   "metadata": {},
   "cell_type": "markdown",
   "source": "That looks like there might be something there - is there actually a correlation?",
   "id": "e117e5c06aa3d2e8"
  },
  {
   "metadata": {
    "ExecuteTime": {
     "end_time": "2025-08-13T01:37:27.153890Z",
     "start_time": "2025-08-13T01:37:27.150589Z"
    }
   },
   "cell_type": "code",
   "source": [
    "def calculate_weekly_stats(group):\n",
    "    cases = group['Weekly Cases per 1000']\n",
    "    ems_calls = group['Weekly EMS Calls per 1000']\n",
    "\n",
    "    if len(cases) < 3:\n",
    "        return pd.Series({'correlation': np.nan, 'p_value': np.nan})\n",
    "\n",
    "    corr, p_val = pearsonr(cases, ems_calls)\n",
    "    return pd.Series({'correlation': corr, 'p_value': p_val})"
   ],
   "id": "898f43a2ccc22141",
   "outputs": [],
   "execution_count": 197
  },
  {
   "metadata": {
    "ExecuteTime": {
     "end_time": "2025-08-13T01:37:27.183132Z",
     "start_time": "2025-08-13T01:37:27.161898Z"
    }
   },
   "cell_type": "code",
   "source": "weekly_stats = weekly_data.groupby('Week Start').apply(calculate_weekly_stats)",
   "id": "7af6948bc9efcfb6",
   "outputs": [],
   "execution_count": 198
  },
  {
   "metadata": {
    "ExecuteTime": {
     "end_time": "2025-08-13T01:37:27.197713Z",
     "start_time": "2025-08-13T01:37:27.192139Z"
    }
   },
   "cell_type": "code",
   "source": "weekly_stats",
   "id": "90d7f5b7b757e85a",
   "outputs": [
    {
     "data": {
      "text/plain": [
       "            correlation       p_value\n",
       "Week Start                           \n",
       "2020-01-26          NaN           NaN\n",
       "2020-02-02          NaN           NaN\n",
       "2020-02-09          NaN           NaN\n",
       "2020-02-16     0.999426  5.740105e-04\n",
       "2020-02-23     0.944763  2.125839e-01\n",
       "2020-03-01     0.048430  8.943079e-01\n",
       "2020-03-08     0.003822  9.803567e-01\n",
       "2020-03-15     0.607724  2.260928e-09\n",
       "2020-03-22     0.403910  5.945873e-05\n",
       "2020-03-29     0.090413  3.913845e-01\n",
       "2020-04-05     0.100226  3.472645e-01\n",
       "2020-04-12     0.187595  7.020688e-02\n",
       "2020-04-19     0.272640  1.017279e-02\n",
       "2020-04-26     0.194398  6.482523e-02\n",
       "2020-05-03     0.271670  9.592738e-03\n",
       "2020-05-10     0.151634  1.880247e-01\n",
       "2020-05-17     0.073007  5.145124e-01\n",
       "2020-05-24     0.172451  1.081281e-01\n",
       "2020-05-31     0.062330  5.732603e-01\n",
       "2020-06-07     0.074977  5.141390e-01\n",
       "2020-06-14     0.163194  1.534030e-01\n",
       "2020-06-21     0.180122  1.246175e-01\n",
       "2020-06-28     0.052930  6.565092e-01\n",
       "2020-07-05     0.197058  1.020288e-01\n",
       "2020-07-12     0.130925  2.764614e-01\n",
       "2020-07-19     0.271489  3.280419e-02\n",
       "2020-07-26     0.041456  7.449923e-01\n",
       "2020-08-02     0.094078  5.202398e-01\n",
       "2020-08-09     0.158911  2.420756e-01\n",
       "2020-08-16     0.081799  5.603784e-01\n",
       "2020-08-23    -0.063749  6.196360e-01\n",
       "2020-08-30    -0.059262  6.364533e-01\n",
       "2020-09-06     0.144891  2.026531e-01\n",
       "2020-09-13     0.483714  1.190443e-06\n",
       "2020-09-20     0.325189  1.470153e-03\n",
       "2020-09-27     0.271687  7.413471e-03\n",
       "2020-10-04     0.128929  2.130550e-01\n",
       "2020-10-11     0.070360  4.980618e-01\n",
       "2020-10-18    -0.087918  3.994398e-01\n",
       "2020-10-25     0.011162  9.154340e-01\n",
       "2020-11-01    -0.107629  3.018185e-01\n",
       "2020-11-08    -0.071789  4.870092e-01\n",
       "2020-11-15    -0.099729  3.362653e-01\n",
       "2020-11-22    -0.060507  5.602451e-01\n",
       "2020-11-29     0.026366  7.987248e-01\n",
       "2020-12-06    -0.002824  9.782146e-01\n",
       "2020-12-13    -0.088758  3.898137e-01\n",
       "2020-12-20     0.041312  6.910014e-01\n",
       "2020-12-27     0.014385  8.899577e-01\n",
       "2021-01-03    -0.019313  8.526262e-01"
      ],
      "text/html": [
       "<div>\n",
       "<style scoped>\n",
       "    .dataframe tbody tr th:only-of-type {\n",
       "        vertical-align: middle;\n",
       "    }\n",
       "\n",
       "    .dataframe tbody tr th {\n",
       "        vertical-align: top;\n",
       "    }\n",
       "\n",
       "    .dataframe thead th {\n",
       "        text-align: right;\n",
       "    }\n",
       "</style>\n",
       "<table border=\"1\" class=\"dataframe\">\n",
       "  <thead>\n",
       "    <tr style=\"text-align: right;\">\n",
       "      <th></th>\n",
       "      <th>correlation</th>\n",
       "      <th>p_value</th>\n",
       "    </tr>\n",
       "    <tr>\n",
       "      <th>Week Start</th>\n",
       "      <th></th>\n",
       "      <th></th>\n",
       "    </tr>\n",
       "  </thead>\n",
       "  <tbody>\n",
       "    <tr>\n",
       "      <th>2020-01-26</th>\n",
       "      <td>NaN</td>\n",
       "      <td>NaN</td>\n",
       "    </tr>\n",
       "    <tr>\n",
       "      <th>2020-02-02</th>\n",
       "      <td>NaN</td>\n",
       "      <td>NaN</td>\n",
       "    </tr>\n",
       "    <tr>\n",
       "      <th>2020-02-09</th>\n",
       "      <td>NaN</td>\n",
       "      <td>NaN</td>\n",
       "    </tr>\n",
       "    <tr>\n",
       "      <th>2020-02-16</th>\n",
       "      <td>0.999426</td>\n",
       "      <td>5.740105e-04</td>\n",
       "    </tr>\n",
       "    <tr>\n",
       "      <th>2020-02-23</th>\n",
       "      <td>0.944763</td>\n",
       "      <td>2.125839e-01</td>\n",
       "    </tr>\n",
       "    <tr>\n",
       "      <th>2020-03-01</th>\n",
       "      <td>0.048430</td>\n",
       "      <td>8.943079e-01</td>\n",
       "    </tr>\n",
       "    <tr>\n",
       "      <th>2020-03-08</th>\n",
       "      <td>0.003822</td>\n",
       "      <td>9.803567e-01</td>\n",
       "    </tr>\n",
       "    <tr>\n",
       "      <th>2020-03-15</th>\n",
       "      <td>0.607724</td>\n",
       "      <td>2.260928e-09</td>\n",
       "    </tr>\n",
       "    <tr>\n",
       "      <th>2020-03-22</th>\n",
       "      <td>0.403910</td>\n",
       "      <td>5.945873e-05</td>\n",
       "    </tr>\n",
       "    <tr>\n",
       "      <th>2020-03-29</th>\n",
       "      <td>0.090413</td>\n",
       "      <td>3.913845e-01</td>\n",
       "    </tr>\n",
       "    <tr>\n",
       "      <th>2020-04-05</th>\n",
       "      <td>0.100226</td>\n",
       "      <td>3.472645e-01</td>\n",
       "    </tr>\n",
       "    <tr>\n",
       "      <th>2020-04-12</th>\n",
       "      <td>0.187595</td>\n",
       "      <td>7.020688e-02</td>\n",
       "    </tr>\n",
       "    <tr>\n",
       "      <th>2020-04-19</th>\n",
       "      <td>0.272640</td>\n",
       "      <td>1.017279e-02</td>\n",
       "    </tr>\n",
       "    <tr>\n",
       "      <th>2020-04-26</th>\n",
       "      <td>0.194398</td>\n",
       "      <td>6.482523e-02</td>\n",
       "    </tr>\n",
       "    <tr>\n",
       "      <th>2020-05-03</th>\n",
       "      <td>0.271670</td>\n",
       "      <td>9.592738e-03</td>\n",
       "    </tr>\n",
       "    <tr>\n",
       "      <th>2020-05-10</th>\n",
       "      <td>0.151634</td>\n",
       "      <td>1.880247e-01</td>\n",
       "    </tr>\n",
       "    <tr>\n",
       "      <th>2020-05-17</th>\n",
       "      <td>0.073007</td>\n",
       "      <td>5.145124e-01</td>\n",
       "    </tr>\n",
       "    <tr>\n",
       "      <th>2020-05-24</th>\n",
       "      <td>0.172451</td>\n",
       "      <td>1.081281e-01</td>\n",
       "    </tr>\n",
       "    <tr>\n",
       "      <th>2020-05-31</th>\n",
       "      <td>0.062330</td>\n",
       "      <td>5.732603e-01</td>\n",
       "    </tr>\n",
       "    <tr>\n",
       "      <th>2020-06-07</th>\n",
       "      <td>0.074977</td>\n",
       "      <td>5.141390e-01</td>\n",
       "    </tr>\n",
       "    <tr>\n",
       "      <th>2020-06-14</th>\n",
       "      <td>0.163194</td>\n",
       "      <td>1.534030e-01</td>\n",
       "    </tr>\n",
       "    <tr>\n",
       "      <th>2020-06-21</th>\n",
       "      <td>0.180122</td>\n",
       "      <td>1.246175e-01</td>\n",
       "    </tr>\n",
       "    <tr>\n",
       "      <th>2020-06-28</th>\n",
       "      <td>0.052930</td>\n",
       "      <td>6.565092e-01</td>\n",
       "    </tr>\n",
       "    <tr>\n",
       "      <th>2020-07-05</th>\n",
       "      <td>0.197058</td>\n",
       "      <td>1.020288e-01</td>\n",
       "    </tr>\n",
       "    <tr>\n",
       "      <th>2020-07-12</th>\n",
       "      <td>0.130925</td>\n",
       "      <td>2.764614e-01</td>\n",
       "    </tr>\n",
       "    <tr>\n",
       "      <th>2020-07-19</th>\n",
       "      <td>0.271489</td>\n",
       "      <td>3.280419e-02</td>\n",
       "    </tr>\n",
       "    <tr>\n",
       "      <th>2020-07-26</th>\n",
       "      <td>0.041456</td>\n",
       "      <td>7.449923e-01</td>\n",
       "    </tr>\n",
       "    <tr>\n",
       "      <th>2020-08-02</th>\n",
       "      <td>0.094078</td>\n",
       "      <td>5.202398e-01</td>\n",
       "    </tr>\n",
       "    <tr>\n",
       "      <th>2020-08-09</th>\n",
       "      <td>0.158911</td>\n",
       "      <td>2.420756e-01</td>\n",
       "    </tr>\n",
       "    <tr>\n",
       "      <th>2020-08-16</th>\n",
       "      <td>0.081799</td>\n",
       "      <td>5.603784e-01</td>\n",
       "    </tr>\n",
       "    <tr>\n",
       "      <th>2020-08-23</th>\n",
       "      <td>-0.063749</td>\n",
       "      <td>6.196360e-01</td>\n",
       "    </tr>\n",
       "    <tr>\n",
       "      <th>2020-08-30</th>\n",
       "      <td>-0.059262</td>\n",
       "      <td>6.364533e-01</td>\n",
       "    </tr>\n",
       "    <tr>\n",
       "      <th>2020-09-06</th>\n",
       "      <td>0.144891</td>\n",
       "      <td>2.026531e-01</td>\n",
       "    </tr>\n",
       "    <tr>\n",
       "      <th>2020-09-13</th>\n",
       "      <td>0.483714</td>\n",
       "      <td>1.190443e-06</td>\n",
       "    </tr>\n",
       "    <tr>\n",
       "      <th>2020-09-20</th>\n",
       "      <td>0.325189</td>\n",
       "      <td>1.470153e-03</td>\n",
       "    </tr>\n",
       "    <tr>\n",
       "      <th>2020-09-27</th>\n",
       "      <td>0.271687</td>\n",
       "      <td>7.413471e-03</td>\n",
       "    </tr>\n",
       "    <tr>\n",
       "      <th>2020-10-04</th>\n",
       "      <td>0.128929</td>\n",
       "      <td>2.130550e-01</td>\n",
       "    </tr>\n",
       "    <tr>\n",
       "      <th>2020-10-11</th>\n",
       "      <td>0.070360</td>\n",
       "      <td>4.980618e-01</td>\n",
       "    </tr>\n",
       "    <tr>\n",
       "      <th>2020-10-18</th>\n",
       "      <td>-0.087918</td>\n",
       "      <td>3.994398e-01</td>\n",
       "    </tr>\n",
       "    <tr>\n",
       "      <th>2020-10-25</th>\n",
       "      <td>0.011162</td>\n",
       "      <td>9.154340e-01</td>\n",
       "    </tr>\n",
       "    <tr>\n",
       "      <th>2020-11-01</th>\n",
       "      <td>-0.107629</td>\n",
       "      <td>3.018185e-01</td>\n",
       "    </tr>\n",
       "    <tr>\n",
       "      <th>2020-11-08</th>\n",
       "      <td>-0.071789</td>\n",
       "      <td>4.870092e-01</td>\n",
       "    </tr>\n",
       "    <tr>\n",
       "      <th>2020-11-15</th>\n",
       "      <td>-0.099729</td>\n",
       "      <td>3.362653e-01</td>\n",
       "    </tr>\n",
       "    <tr>\n",
       "      <th>2020-11-22</th>\n",
       "      <td>-0.060507</td>\n",
       "      <td>5.602451e-01</td>\n",
       "    </tr>\n",
       "    <tr>\n",
       "      <th>2020-11-29</th>\n",
       "      <td>0.026366</td>\n",
       "      <td>7.987248e-01</td>\n",
       "    </tr>\n",
       "    <tr>\n",
       "      <th>2020-12-06</th>\n",
       "      <td>-0.002824</td>\n",
       "      <td>9.782146e-01</td>\n",
       "    </tr>\n",
       "    <tr>\n",
       "      <th>2020-12-13</th>\n",
       "      <td>-0.088758</td>\n",
       "      <td>3.898137e-01</td>\n",
       "    </tr>\n",
       "    <tr>\n",
       "      <th>2020-12-20</th>\n",
       "      <td>0.041312</td>\n",
       "      <td>6.910014e-01</td>\n",
       "    </tr>\n",
       "    <tr>\n",
       "      <th>2020-12-27</th>\n",
       "      <td>0.014385</td>\n",
       "      <td>8.899577e-01</td>\n",
       "    </tr>\n",
       "    <tr>\n",
       "      <th>2021-01-03</th>\n",
       "      <td>-0.019313</td>\n",
       "      <td>8.526262e-01</td>\n",
       "    </tr>\n",
       "  </tbody>\n",
       "</table>\n",
       "</div>"
      ]
     },
     "execution_count": 199,
     "metadata": {},
     "output_type": "execute_result"
    }
   ],
   "execution_count": 199
  },
  {
   "metadata": {},
   "cell_type": "markdown",
   "source": "This is the \"answer\" - there's 7 weeks where the correlation value is significant (< 0.05) , and of those weeks only 2 actually show a correlation value that suggests there is a correlation (> 0.5 or < -0.5). Interestingly, the significant weeks all appear to be in February, March, April and September. Lets look at doing a lag in either direction to see if there's a lag relationship.",
   "id": "9759660a2bbda20b"
  },
  {
   "metadata": {
    "ExecuteTime": {
     "end_time": "2025-08-13T01:37:27.239109Z",
     "start_time": "2025-08-13T01:37:27.236107Z"
    }
   },
   "cell_type": "code",
   "source": [
    "weekly_data['Weekly Cases per 1000 Lag +1'] = weekly_data['Weekly Cases per 1000'].shift(1)\n",
    "weekly_data['Weekly Cases per 1000 Lag -1'] = weekly_data['Weekly Cases per 1000'].shift(-1)"
   ],
   "id": "baed64bdd28189c5",
   "outputs": [],
   "execution_count": 200
  },
  {
   "metadata": {
    "ExecuteTime": {
     "end_time": "2025-08-13T01:37:27.287611Z",
     "start_time": "2025-08-13T01:37:27.285127Z"
    }
   },
   "cell_type": "code",
   "source": [
    "def calculate_weekly_stats_plus_one(group):\n",
    "    cases = group['Weekly Cases per 1000 Lag +1']\n",
    "    ems_calls = group['Weekly EMS Calls per 1000']\n",
    "\n",
    "    if len(cases) < 3:\n",
    "        return pd.Series({'correlation': np.nan, 'p_value': np.nan})\n",
    "\n",
    "    corr, p_val = pearsonr(cases, ems_calls)\n",
    "    return pd.Series({'correlation': corr, 'p_value': p_val})"
   ],
   "id": "f096d1052e6b0cdc",
   "outputs": [],
   "execution_count": 201
  },
  {
   "metadata": {
    "ExecuteTime": {
     "end_time": "2025-08-13T01:37:27.332034Z",
     "start_time": "2025-08-13T01:37:27.309751Z"
    }
   },
   "cell_type": "code",
   "source": "weekly_stats_plus_one = weekly_data.groupby('Week Start').apply(calculate_weekly_stats_plus_one)",
   "id": "3e7b289bd5f2bdcc",
   "outputs": [],
   "execution_count": 202
  },
  {
   "metadata": {
    "ExecuteTime": {
     "end_time": "2025-08-13T01:37:27.361485Z",
     "start_time": "2025-08-13T01:37:27.356364Z"
    }
   },
   "cell_type": "code",
   "source": "weekly_stats_plus_one",
   "id": "a4061ad041d5a137",
   "outputs": [
    {
     "data": {
      "text/plain": [
       "            correlation   p_value\n",
       "Week Start                       \n",
       "2020-01-26          NaN       NaN\n",
       "2020-02-02          NaN       NaN\n",
       "2020-02-09          NaN       NaN\n",
       "2020-02-16     0.012403  0.987597\n",
       "2020-02-23    -0.893468  0.296530\n",
       "2020-03-01    -0.025808  0.943583\n",
       "2020-03-08    -0.194424  0.205999\n",
       "2020-03-15     0.168763  0.134534\n",
       "2020-03-22     0.259238  0.012099\n",
       "2020-03-29    -0.028346  0.788529\n",
       "2020-04-05    -0.037350  0.726713\n",
       "2020-04-12     0.060477  0.562565\n",
       "2020-04-19     0.036538  0.735385\n",
       "2020-04-26    -0.045515  0.668356\n",
       "2020-05-03     0.114560  0.282302\n",
       "2020-05-10     0.001717  0.988175\n",
       "2020-05-17    -0.067303  0.547984\n",
       "2020-05-24    -0.043188  0.689503\n",
       "2020-05-31    -0.031943  0.773002\n",
       "2020-06-07     0.017052  0.882200\n",
       "2020-06-14     0.011967  0.917182\n",
       "2020-06-21    -0.031531  0.789709\n",
       "2020-06-28    -0.169687  0.151225\n",
       "2020-07-05     0.002967  0.980551\n",
       "2020-07-12     0.001419  0.990627\n",
       "2020-07-19    -0.001842  0.988664\n",
       "2020-07-26    -0.088324  0.487665\n",
       "2020-08-02     0.023150  0.874543\n",
       "2020-08-09    -0.112100  0.410759\n",
       "2020-08-16    -0.060166  0.668680\n",
       "2020-08-23    -0.067804  0.597493\n",
       "2020-08-30     0.025076  0.841594\n",
       "2020-09-06     0.066002  0.563320\n",
       "2020-09-13     0.212234  0.043418\n",
       "2020-09-20     0.157569  0.131445\n",
       "2020-09-27     0.170444  0.096854\n",
       "2020-10-04     0.042917  0.679639\n",
       "2020-10-11     0.108828  0.293810\n",
       "2020-10-18    -0.013975  0.893648\n",
       "2020-10-25    -0.091575  0.382660\n",
       "2020-11-01    -0.116002  0.265537\n",
       "2020-11-08    -0.110514  0.283760\n",
       "2020-11-15    -0.106196  0.305707\n",
       "2020-11-22    -0.128072  0.216138\n",
       "2020-11-29    -0.073988  0.473733\n",
       "2020-12-06    -0.098203  0.341156\n",
       "2020-12-13    -0.133154  0.195901\n",
       "2020-12-20     0.002639  0.979754\n",
       "2020-12-27    -0.053361  0.607543\n",
       "2021-01-03    -0.044250  0.670258"
      ],
      "text/html": [
       "<div>\n",
       "<style scoped>\n",
       "    .dataframe tbody tr th:only-of-type {\n",
       "        vertical-align: middle;\n",
       "    }\n",
       "\n",
       "    .dataframe tbody tr th {\n",
       "        vertical-align: top;\n",
       "    }\n",
       "\n",
       "    .dataframe thead th {\n",
       "        text-align: right;\n",
       "    }\n",
       "</style>\n",
       "<table border=\"1\" class=\"dataframe\">\n",
       "  <thead>\n",
       "    <tr style=\"text-align: right;\">\n",
       "      <th></th>\n",
       "      <th>correlation</th>\n",
       "      <th>p_value</th>\n",
       "    </tr>\n",
       "    <tr>\n",
       "      <th>Week Start</th>\n",
       "      <th></th>\n",
       "      <th></th>\n",
       "    </tr>\n",
       "  </thead>\n",
       "  <tbody>\n",
       "    <tr>\n",
       "      <th>2020-01-26</th>\n",
       "      <td>NaN</td>\n",
       "      <td>NaN</td>\n",
       "    </tr>\n",
       "    <tr>\n",
       "      <th>2020-02-02</th>\n",
       "      <td>NaN</td>\n",
       "      <td>NaN</td>\n",
       "    </tr>\n",
       "    <tr>\n",
       "      <th>2020-02-09</th>\n",
       "      <td>NaN</td>\n",
       "      <td>NaN</td>\n",
       "    </tr>\n",
       "    <tr>\n",
       "      <th>2020-02-16</th>\n",
       "      <td>0.012403</td>\n",
       "      <td>0.987597</td>\n",
       "    </tr>\n",
       "    <tr>\n",
       "      <th>2020-02-23</th>\n",
       "      <td>-0.893468</td>\n",
       "      <td>0.296530</td>\n",
       "    </tr>\n",
       "    <tr>\n",
       "      <th>2020-03-01</th>\n",
       "      <td>-0.025808</td>\n",
       "      <td>0.943583</td>\n",
       "    </tr>\n",
       "    <tr>\n",
       "      <th>2020-03-08</th>\n",
       "      <td>-0.194424</td>\n",
       "      <td>0.205999</td>\n",
       "    </tr>\n",
       "    <tr>\n",
       "      <th>2020-03-15</th>\n",
       "      <td>0.168763</td>\n",
       "      <td>0.134534</td>\n",
       "    </tr>\n",
       "    <tr>\n",
       "      <th>2020-03-22</th>\n",
       "      <td>0.259238</td>\n",
       "      <td>0.012099</td>\n",
       "    </tr>\n",
       "    <tr>\n",
       "      <th>2020-03-29</th>\n",
       "      <td>-0.028346</td>\n",
       "      <td>0.788529</td>\n",
       "    </tr>\n",
       "    <tr>\n",
       "      <th>2020-04-05</th>\n",
       "      <td>-0.037350</td>\n",
       "      <td>0.726713</td>\n",
       "    </tr>\n",
       "    <tr>\n",
       "      <th>2020-04-12</th>\n",
       "      <td>0.060477</td>\n",
       "      <td>0.562565</td>\n",
       "    </tr>\n",
       "    <tr>\n",
       "      <th>2020-04-19</th>\n",
       "      <td>0.036538</td>\n",
       "      <td>0.735385</td>\n",
       "    </tr>\n",
       "    <tr>\n",
       "      <th>2020-04-26</th>\n",
       "      <td>-0.045515</td>\n",
       "      <td>0.668356</td>\n",
       "    </tr>\n",
       "    <tr>\n",
       "      <th>2020-05-03</th>\n",
       "      <td>0.114560</td>\n",
       "      <td>0.282302</td>\n",
       "    </tr>\n",
       "    <tr>\n",
       "      <th>2020-05-10</th>\n",
       "      <td>0.001717</td>\n",
       "      <td>0.988175</td>\n",
       "    </tr>\n",
       "    <tr>\n",
       "      <th>2020-05-17</th>\n",
       "      <td>-0.067303</td>\n",
       "      <td>0.547984</td>\n",
       "    </tr>\n",
       "    <tr>\n",
       "      <th>2020-05-24</th>\n",
       "      <td>-0.043188</td>\n",
       "      <td>0.689503</td>\n",
       "    </tr>\n",
       "    <tr>\n",
       "      <th>2020-05-31</th>\n",
       "      <td>-0.031943</td>\n",
       "      <td>0.773002</td>\n",
       "    </tr>\n",
       "    <tr>\n",
       "      <th>2020-06-07</th>\n",
       "      <td>0.017052</td>\n",
       "      <td>0.882200</td>\n",
       "    </tr>\n",
       "    <tr>\n",
       "      <th>2020-06-14</th>\n",
       "      <td>0.011967</td>\n",
       "      <td>0.917182</td>\n",
       "    </tr>\n",
       "    <tr>\n",
       "      <th>2020-06-21</th>\n",
       "      <td>-0.031531</td>\n",
       "      <td>0.789709</td>\n",
       "    </tr>\n",
       "    <tr>\n",
       "      <th>2020-06-28</th>\n",
       "      <td>-0.169687</td>\n",
       "      <td>0.151225</td>\n",
       "    </tr>\n",
       "    <tr>\n",
       "      <th>2020-07-05</th>\n",
       "      <td>0.002967</td>\n",
       "      <td>0.980551</td>\n",
       "    </tr>\n",
       "    <tr>\n",
       "      <th>2020-07-12</th>\n",
       "      <td>0.001419</td>\n",
       "      <td>0.990627</td>\n",
       "    </tr>\n",
       "    <tr>\n",
       "      <th>2020-07-19</th>\n",
       "      <td>-0.001842</td>\n",
       "      <td>0.988664</td>\n",
       "    </tr>\n",
       "    <tr>\n",
       "      <th>2020-07-26</th>\n",
       "      <td>-0.088324</td>\n",
       "      <td>0.487665</td>\n",
       "    </tr>\n",
       "    <tr>\n",
       "      <th>2020-08-02</th>\n",
       "      <td>0.023150</td>\n",
       "      <td>0.874543</td>\n",
       "    </tr>\n",
       "    <tr>\n",
       "      <th>2020-08-09</th>\n",
       "      <td>-0.112100</td>\n",
       "      <td>0.410759</td>\n",
       "    </tr>\n",
       "    <tr>\n",
       "      <th>2020-08-16</th>\n",
       "      <td>-0.060166</td>\n",
       "      <td>0.668680</td>\n",
       "    </tr>\n",
       "    <tr>\n",
       "      <th>2020-08-23</th>\n",
       "      <td>-0.067804</td>\n",
       "      <td>0.597493</td>\n",
       "    </tr>\n",
       "    <tr>\n",
       "      <th>2020-08-30</th>\n",
       "      <td>0.025076</td>\n",
       "      <td>0.841594</td>\n",
       "    </tr>\n",
       "    <tr>\n",
       "      <th>2020-09-06</th>\n",
       "      <td>0.066002</td>\n",
       "      <td>0.563320</td>\n",
       "    </tr>\n",
       "    <tr>\n",
       "      <th>2020-09-13</th>\n",
       "      <td>0.212234</td>\n",
       "      <td>0.043418</td>\n",
       "    </tr>\n",
       "    <tr>\n",
       "      <th>2020-09-20</th>\n",
       "      <td>0.157569</td>\n",
       "      <td>0.131445</td>\n",
       "    </tr>\n",
       "    <tr>\n",
       "      <th>2020-09-27</th>\n",
       "      <td>0.170444</td>\n",
       "      <td>0.096854</td>\n",
       "    </tr>\n",
       "    <tr>\n",
       "      <th>2020-10-04</th>\n",
       "      <td>0.042917</td>\n",
       "      <td>0.679639</td>\n",
       "    </tr>\n",
       "    <tr>\n",
       "      <th>2020-10-11</th>\n",
       "      <td>0.108828</td>\n",
       "      <td>0.293810</td>\n",
       "    </tr>\n",
       "    <tr>\n",
       "      <th>2020-10-18</th>\n",
       "      <td>-0.013975</td>\n",
       "      <td>0.893648</td>\n",
       "    </tr>\n",
       "    <tr>\n",
       "      <th>2020-10-25</th>\n",
       "      <td>-0.091575</td>\n",
       "      <td>0.382660</td>\n",
       "    </tr>\n",
       "    <tr>\n",
       "      <th>2020-11-01</th>\n",
       "      <td>-0.116002</td>\n",
       "      <td>0.265537</td>\n",
       "    </tr>\n",
       "    <tr>\n",
       "      <th>2020-11-08</th>\n",
       "      <td>-0.110514</td>\n",
       "      <td>0.283760</td>\n",
       "    </tr>\n",
       "    <tr>\n",
       "      <th>2020-11-15</th>\n",
       "      <td>-0.106196</td>\n",
       "      <td>0.305707</td>\n",
       "    </tr>\n",
       "    <tr>\n",
       "      <th>2020-11-22</th>\n",
       "      <td>-0.128072</td>\n",
       "      <td>0.216138</td>\n",
       "    </tr>\n",
       "    <tr>\n",
       "      <th>2020-11-29</th>\n",
       "      <td>-0.073988</td>\n",
       "      <td>0.473733</td>\n",
       "    </tr>\n",
       "    <tr>\n",
       "      <th>2020-12-06</th>\n",
       "      <td>-0.098203</td>\n",
       "      <td>0.341156</td>\n",
       "    </tr>\n",
       "    <tr>\n",
       "      <th>2020-12-13</th>\n",
       "      <td>-0.133154</td>\n",
       "      <td>0.195901</td>\n",
       "    </tr>\n",
       "    <tr>\n",
       "      <th>2020-12-20</th>\n",
       "      <td>0.002639</td>\n",
       "      <td>0.979754</td>\n",
       "    </tr>\n",
       "    <tr>\n",
       "      <th>2020-12-27</th>\n",
       "      <td>-0.053361</td>\n",
       "      <td>0.607543</td>\n",
       "    </tr>\n",
       "    <tr>\n",
       "      <th>2021-01-03</th>\n",
       "      <td>-0.044250</td>\n",
       "      <td>0.670258</td>\n",
       "    </tr>\n",
       "  </tbody>\n",
       "</table>\n",
       "</div>"
      ]
     },
     "execution_count": 203,
     "metadata": {},
     "output_type": "execute_result"
    }
   ],
   "execution_count": 203
  },
  {
   "metadata": {},
   "cell_type": "markdown",
   "source": "well that's ~~useless hot garbage~~ not statistically significant - let's look in the other direction",
   "id": "76e6107c01f21bfe"
  },
  {
   "metadata": {
    "ExecuteTime": {
     "end_time": "2025-08-13T01:37:27.431987Z",
     "start_time": "2025-08-13T01:37:27.428909Z"
    }
   },
   "cell_type": "code",
   "source": [
    "def calculate_weekly_stats_minus_one(group):\n",
    "    cases = group['Weekly Cases per 1000 Lag -1']\n",
    "    ems_calls = group['Weekly EMS Calls per 1000']\n",
    "\n",
    "    if len(cases) < 3:\n",
    "        return pd.Series({'correlation': np.nan, 'p_value': np.nan})\n",
    "\n",
    "    corr, p_val = pearsonr(cases, ems_calls)\n",
    "    return pd.Series({'correlation': corr, 'p_value': p_val})"
   ],
   "id": "680ab2643d6f3ef2",
   "outputs": [],
   "execution_count": 204
  },
  {
   "metadata": {
    "ExecuteTime": {
     "end_time": "2025-08-13T01:37:27.492060Z",
     "start_time": "2025-08-13T01:37:27.470506Z"
    }
   },
   "cell_type": "code",
   "source": "weekly_stats_minus_one = weekly_data.groupby('Week Start').apply(calculate_weekly_stats_minus_one)",
   "id": "2cfafe64a797ae4b",
   "outputs": [],
   "execution_count": 205
  },
  {
   "metadata": {
    "ExecuteTime": {
     "end_time": "2025-08-13T01:37:27.531447Z",
     "start_time": "2025-08-13T01:37:27.526294Z"
    }
   },
   "cell_type": "code",
   "source": "weekly_stats_minus_one",
   "id": "b03226672a35e880",
   "outputs": [
    {
     "data": {
      "text/plain": [
       "            correlation   p_value\n",
       "Week Start                       \n",
       "2020-01-26          NaN       NaN\n",
       "2020-02-02          NaN       NaN\n",
       "2020-02-09          NaN       NaN\n",
       "2020-02-16    -0.020318  0.979682\n",
       "2020-02-23    -0.188538  0.879251\n",
       "2020-03-01     0.303357  0.394177\n",
       "2020-03-08    -0.053746  0.728966\n",
       "2020-03-15     0.479315  0.000007\n",
       "2020-03-22     0.088893  0.396808\n",
       "2020-03-29    -0.046341  0.660921\n",
       "2020-04-05     0.001879  0.985979\n",
       "2020-04-12     0.039747  0.703679\n",
       "2020-04-19     0.007750  0.942872\n",
       "2020-04-26     0.058099  0.584360\n",
       "2020-05-03    -0.007342  0.945247\n",
       "2020-05-10     0.056849  0.623367\n",
       "2020-05-17    -0.024130  0.829623\n",
       "2020-05-24     0.035666  0.741479\n",
       "2020-05-31     0.019344  0.861357\n",
       "2020-06-07     0.104824  0.361057\n",
       "2020-06-14     0.077312  0.501085\n",
       "2020-06-21     0.072450  0.539590\n",
       "2020-06-28     0.015223  0.898285\n",
       "2020-07-05     0.011282  0.926146\n",
       "2020-07-12     0.136267  0.257163\n",
       "2020-07-19    -0.027402  0.832565\n",
       "2020-07-26     0.059336  0.641399\n",
       "2020-08-02     0.060612  0.679085\n",
       "2020-08-09    -0.027034  0.843217\n",
       "2020-08-16     0.150802  0.281098\n",
       "2020-08-23    -0.036775  0.774770\n",
       "2020-08-30     0.007267  0.953823\n",
       "2020-09-06     0.203141  0.072566\n",
       "2020-09-13     0.226201  0.031082\n",
       "2020-09-20     0.248363  0.016374\n",
       "2020-09-27     0.150554  0.143150\n",
       "2020-10-04     0.043250  0.677294\n",
       "2020-10-11    -0.062654  0.546385\n",
       "2020-10-18    -0.144378  0.165030\n",
       "2020-10-25    -0.025574  0.807746\n",
       "2020-11-01    -0.176458  0.088884\n",
       "2020-11-08    -0.027127  0.793050\n",
       "2020-11-15    -0.113417  0.273801\n",
       "2020-11-22    -0.202560  0.048996\n",
       "2020-11-29    -0.084250  0.414432\n",
       "2020-12-06    -0.147993  0.150159\n",
       "2020-12-13    -0.190701  0.062727\n",
       "2020-12-20    -0.064722  0.533194\n",
       "2020-12-27    -0.174442  0.090889\n",
       "2021-01-03          NaN       NaN"
      ],
      "text/html": [
       "<div>\n",
       "<style scoped>\n",
       "    .dataframe tbody tr th:only-of-type {\n",
       "        vertical-align: middle;\n",
       "    }\n",
       "\n",
       "    .dataframe tbody tr th {\n",
       "        vertical-align: top;\n",
       "    }\n",
       "\n",
       "    .dataframe thead th {\n",
       "        text-align: right;\n",
       "    }\n",
       "</style>\n",
       "<table border=\"1\" class=\"dataframe\">\n",
       "  <thead>\n",
       "    <tr style=\"text-align: right;\">\n",
       "      <th></th>\n",
       "      <th>correlation</th>\n",
       "      <th>p_value</th>\n",
       "    </tr>\n",
       "    <tr>\n",
       "      <th>Week Start</th>\n",
       "      <th></th>\n",
       "      <th></th>\n",
       "    </tr>\n",
       "  </thead>\n",
       "  <tbody>\n",
       "    <tr>\n",
       "      <th>2020-01-26</th>\n",
       "      <td>NaN</td>\n",
       "      <td>NaN</td>\n",
       "    </tr>\n",
       "    <tr>\n",
       "      <th>2020-02-02</th>\n",
       "      <td>NaN</td>\n",
       "      <td>NaN</td>\n",
       "    </tr>\n",
       "    <tr>\n",
       "      <th>2020-02-09</th>\n",
       "      <td>NaN</td>\n",
       "      <td>NaN</td>\n",
       "    </tr>\n",
       "    <tr>\n",
       "      <th>2020-02-16</th>\n",
       "      <td>-0.020318</td>\n",
       "      <td>0.979682</td>\n",
       "    </tr>\n",
       "    <tr>\n",
       "      <th>2020-02-23</th>\n",
       "      <td>-0.188538</td>\n",
       "      <td>0.879251</td>\n",
       "    </tr>\n",
       "    <tr>\n",
       "      <th>2020-03-01</th>\n",
       "      <td>0.303357</td>\n",
       "      <td>0.394177</td>\n",
       "    </tr>\n",
       "    <tr>\n",
       "      <th>2020-03-08</th>\n",
       "      <td>-0.053746</td>\n",
       "      <td>0.728966</td>\n",
       "    </tr>\n",
       "    <tr>\n",
       "      <th>2020-03-15</th>\n",
       "      <td>0.479315</td>\n",
       "      <td>0.000007</td>\n",
       "    </tr>\n",
       "    <tr>\n",
       "      <th>2020-03-22</th>\n",
       "      <td>0.088893</td>\n",
       "      <td>0.396808</td>\n",
       "    </tr>\n",
       "    <tr>\n",
       "      <th>2020-03-29</th>\n",
       "      <td>-0.046341</td>\n",
       "      <td>0.660921</td>\n",
       "    </tr>\n",
       "    <tr>\n",
       "      <th>2020-04-05</th>\n",
       "      <td>0.001879</td>\n",
       "      <td>0.985979</td>\n",
       "    </tr>\n",
       "    <tr>\n",
       "      <th>2020-04-12</th>\n",
       "      <td>0.039747</td>\n",
       "      <td>0.703679</td>\n",
       "    </tr>\n",
       "    <tr>\n",
       "      <th>2020-04-19</th>\n",
       "      <td>0.007750</td>\n",
       "      <td>0.942872</td>\n",
       "    </tr>\n",
       "    <tr>\n",
       "      <th>2020-04-26</th>\n",
       "      <td>0.058099</td>\n",
       "      <td>0.584360</td>\n",
       "    </tr>\n",
       "    <tr>\n",
       "      <th>2020-05-03</th>\n",
       "      <td>-0.007342</td>\n",
       "      <td>0.945247</td>\n",
       "    </tr>\n",
       "    <tr>\n",
       "      <th>2020-05-10</th>\n",
       "      <td>0.056849</td>\n",
       "      <td>0.623367</td>\n",
       "    </tr>\n",
       "    <tr>\n",
       "      <th>2020-05-17</th>\n",
       "      <td>-0.024130</td>\n",
       "      <td>0.829623</td>\n",
       "    </tr>\n",
       "    <tr>\n",
       "      <th>2020-05-24</th>\n",
       "      <td>0.035666</td>\n",
       "      <td>0.741479</td>\n",
       "    </tr>\n",
       "    <tr>\n",
       "      <th>2020-05-31</th>\n",
       "      <td>0.019344</td>\n",
       "      <td>0.861357</td>\n",
       "    </tr>\n",
       "    <tr>\n",
       "      <th>2020-06-07</th>\n",
       "      <td>0.104824</td>\n",
       "      <td>0.361057</td>\n",
       "    </tr>\n",
       "    <tr>\n",
       "      <th>2020-06-14</th>\n",
       "      <td>0.077312</td>\n",
       "      <td>0.501085</td>\n",
       "    </tr>\n",
       "    <tr>\n",
       "      <th>2020-06-21</th>\n",
       "      <td>0.072450</td>\n",
       "      <td>0.539590</td>\n",
       "    </tr>\n",
       "    <tr>\n",
       "      <th>2020-06-28</th>\n",
       "      <td>0.015223</td>\n",
       "      <td>0.898285</td>\n",
       "    </tr>\n",
       "    <tr>\n",
       "      <th>2020-07-05</th>\n",
       "      <td>0.011282</td>\n",
       "      <td>0.926146</td>\n",
       "    </tr>\n",
       "    <tr>\n",
       "      <th>2020-07-12</th>\n",
       "      <td>0.136267</td>\n",
       "      <td>0.257163</td>\n",
       "    </tr>\n",
       "    <tr>\n",
       "      <th>2020-07-19</th>\n",
       "      <td>-0.027402</td>\n",
       "      <td>0.832565</td>\n",
       "    </tr>\n",
       "    <tr>\n",
       "      <th>2020-07-26</th>\n",
       "      <td>0.059336</td>\n",
       "      <td>0.641399</td>\n",
       "    </tr>\n",
       "    <tr>\n",
       "      <th>2020-08-02</th>\n",
       "      <td>0.060612</td>\n",
       "      <td>0.679085</td>\n",
       "    </tr>\n",
       "    <tr>\n",
       "      <th>2020-08-09</th>\n",
       "      <td>-0.027034</td>\n",
       "      <td>0.843217</td>\n",
       "    </tr>\n",
       "    <tr>\n",
       "      <th>2020-08-16</th>\n",
       "      <td>0.150802</td>\n",
       "      <td>0.281098</td>\n",
       "    </tr>\n",
       "    <tr>\n",
       "      <th>2020-08-23</th>\n",
       "      <td>-0.036775</td>\n",
       "      <td>0.774770</td>\n",
       "    </tr>\n",
       "    <tr>\n",
       "      <th>2020-08-30</th>\n",
       "      <td>0.007267</td>\n",
       "      <td>0.953823</td>\n",
       "    </tr>\n",
       "    <tr>\n",
       "      <th>2020-09-06</th>\n",
       "      <td>0.203141</td>\n",
       "      <td>0.072566</td>\n",
       "    </tr>\n",
       "    <tr>\n",
       "      <th>2020-09-13</th>\n",
       "      <td>0.226201</td>\n",
       "      <td>0.031082</td>\n",
       "    </tr>\n",
       "    <tr>\n",
       "      <th>2020-09-20</th>\n",
       "      <td>0.248363</td>\n",
       "      <td>0.016374</td>\n",
       "    </tr>\n",
       "    <tr>\n",
       "      <th>2020-09-27</th>\n",
       "      <td>0.150554</td>\n",
       "      <td>0.143150</td>\n",
       "    </tr>\n",
       "    <tr>\n",
       "      <th>2020-10-04</th>\n",
       "      <td>0.043250</td>\n",
       "      <td>0.677294</td>\n",
       "    </tr>\n",
       "    <tr>\n",
       "      <th>2020-10-11</th>\n",
       "      <td>-0.062654</td>\n",
       "      <td>0.546385</td>\n",
       "    </tr>\n",
       "    <tr>\n",
       "      <th>2020-10-18</th>\n",
       "      <td>-0.144378</td>\n",
       "      <td>0.165030</td>\n",
       "    </tr>\n",
       "    <tr>\n",
       "      <th>2020-10-25</th>\n",
       "      <td>-0.025574</td>\n",
       "      <td>0.807746</td>\n",
       "    </tr>\n",
       "    <tr>\n",
       "      <th>2020-11-01</th>\n",
       "      <td>-0.176458</td>\n",
       "      <td>0.088884</td>\n",
       "    </tr>\n",
       "    <tr>\n",
       "      <th>2020-11-08</th>\n",
       "      <td>-0.027127</td>\n",
       "      <td>0.793050</td>\n",
       "    </tr>\n",
       "    <tr>\n",
       "      <th>2020-11-15</th>\n",
       "      <td>-0.113417</td>\n",
       "      <td>0.273801</td>\n",
       "    </tr>\n",
       "    <tr>\n",
       "      <th>2020-11-22</th>\n",
       "      <td>-0.202560</td>\n",
       "      <td>0.048996</td>\n",
       "    </tr>\n",
       "    <tr>\n",
       "      <th>2020-11-29</th>\n",
       "      <td>-0.084250</td>\n",
       "      <td>0.414432</td>\n",
       "    </tr>\n",
       "    <tr>\n",
       "      <th>2020-12-06</th>\n",
       "      <td>-0.147993</td>\n",
       "      <td>0.150159</td>\n",
       "    </tr>\n",
       "    <tr>\n",
       "      <th>2020-12-13</th>\n",
       "      <td>-0.190701</td>\n",
       "      <td>0.062727</td>\n",
       "    </tr>\n",
       "    <tr>\n",
       "      <th>2020-12-20</th>\n",
       "      <td>-0.064722</td>\n",
       "      <td>0.533194</td>\n",
       "    </tr>\n",
       "    <tr>\n",
       "      <th>2020-12-27</th>\n",
       "      <td>-0.174442</td>\n",
       "      <td>0.090889</td>\n",
       "    </tr>\n",
       "    <tr>\n",
       "      <th>2021-01-03</th>\n",
       "      <td>NaN</td>\n",
       "      <td>NaN</td>\n",
       "    </tr>\n",
       "  </tbody>\n",
       "</table>\n",
       "</div>"
      ]
     },
     "execution_count": 206,
     "metadata": {},
     "output_type": "execute_result"
    }
   ],
   "execution_count": 206
  },
  {
   "metadata": {},
   "cell_type": "markdown",
   "source": [
    "Again, not much there and any weeks with a significant p value are all correlation < 0.5 suggesting there's no correlation.\n",
    "\n",
    "Let's look quickly at the FSA's and see if there's anything there, but I'm not really expecting anything given the summary doesn't see a correlation."
   ],
   "id": "ff2d1ee194412e21"
  },
  {
   "metadata": {
    "ExecuteTime": {
     "end_time": "2025-08-13T01:37:27.603176Z",
     "start_time": "2025-08-13T01:37:27.600824Z"
    }
   },
   "cell_type": "code",
   "source": [
    "def calculate_fsa_correlation_and_pvalue(group):\n",
    "    cases = group['Weekly Cases per 1000']\n",
    "    ems_calls = group['Weekly EMS Calls per 1000']\n",
    "\n",
    "    # Need at least 3 weeks of data for meaningful correlation\n",
    "    if len(cases) < 3:\n",
    "        return pd.Series({'correlation': np.nan, 'p_value': np.nan, 'n_weeks': len(cases)})\n",
    "\n",
    "    corr, p_val = pearsonr(cases, ems_calls)\n",
    "    return pd.Series({'correlation': corr, 'p_value': p_val, 'n_weeks': len(cases)})"
   ],
   "id": "acae88ab2d82be1c",
   "outputs": [],
   "execution_count": 207
  },
  {
   "metadata": {
    "ExecuteTime": {
     "end_time": "2025-08-13T01:37:27.693060Z",
     "start_time": "2025-08-13T01:37:27.652199Z"
    }
   },
   "cell_type": "code",
   "source": "fsa_stats = weekly_data.groupby('FSA').apply(calculate_fsa_correlation_and_pvalue)",
   "id": "74db5708ff919b5f",
   "outputs": [],
   "execution_count": 208
  },
  {
   "metadata": {
    "ExecuteTime": {
     "end_time": "2025-08-13T01:37:27.725200Z",
     "start_time": "2025-08-13T01:37:27.720058Z"
    }
   },
   "cell_type": "code",
   "source": "fsa_stats",
   "id": "8fd71aab87a8d413",
   "outputs": [
    {
     "data": {
      "text/plain": [
       "     correlation   p_value  n_weeks\n",
       "FSA                                \n",
       "M1B     0.107927  0.490893     43.0\n",
       "M1C     0.103237  0.515304     42.0\n",
       "M1E    -0.012361  0.937293     43.0\n",
       "M1G     0.289541  0.069957     40.0\n",
       "M1H     0.074795  0.642103     41.0\n",
       "..           ...       ...      ...\n",
       "M9N    -0.164486  0.291873     43.0\n",
       "M9P    -0.040522  0.801393     41.0\n",
       "M9R    -0.138262  0.376596     43.0\n",
       "M9V     0.067012  0.669407     43.0\n",
       "M9W    -0.212640  0.165809     44.0\n",
       "\n",
       "[96 rows x 3 columns]"
      ],
      "text/html": [
       "<div>\n",
       "<style scoped>\n",
       "    .dataframe tbody tr th:only-of-type {\n",
       "        vertical-align: middle;\n",
       "    }\n",
       "\n",
       "    .dataframe tbody tr th {\n",
       "        vertical-align: top;\n",
       "    }\n",
       "\n",
       "    .dataframe thead th {\n",
       "        text-align: right;\n",
       "    }\n",
       "</style>\n",
       "<table border=\"1\" class=\"dataframe\">\n",
       "  <thead>\n",
       "    <tr style=\"text-align: right;\">\n",
       "      <th></th>\n",
       "      <th>correlation</th>\n",
       "      <th>p_value</th>\n",
       "      <th>n_weeks</th>\n",
       "    </tr>\n",
       "    <tr>\n",
       "      <th>FSA</th>\n",
       "      <th></th>\n",
       "      <th></th>\n",
       "      <th></th>\n",
       "    </tr>\n",
       "  </thead>\n",
       "  <tbody>\n",
       "    <tr>\n",
       "      <th>M1B</th>\n",
       "      <td>0.107927</td>\n",
       "      <td>0.490893</td>\n",
       "      <td>43.0</td>\n",
       "    </tr>\n",
       "    <tr>\n",
       "      <th>M1C</th>\n",
       "      <td>0.103237</td>\n",
       "      <td>0.515304</td>\n",
       "      <td>42.0</td>\n",
       "    </tr>\n",
       "    <tr>\n",
       "      <th>M1E</th>\n",
       "      <td>-0.012361</td>\n",
       "      <td>0.937293</td>\n",
       "      <td>43.0</td>\n",
       "    </tr>\n",
       "    <tr>\n",
       "      <th>M1G</th>\n",
       "      <td>0.289541</td>\n",
       "      <td>0.069957</td>\n",
       "      <td>40.0</td>\n",
       "    </tr>\n",
       "    <tr>\n",
       "      <th>M1H</th>\n",
       "      <td>0.074795</td>\n",
       "      <td>0.642103</td>\n",
       "      <td>41.0</td>\n",
       "    </tr>\n",
       "    <tr>\n",
       "      <th>...</th>\n",
       "      <td>...</td>\n",
       "      <td>...</td>\n",
       "      <td>...</td>\n",
       "    </tr>\n",
       "    <tr>\n",
       "      <th>M9N</th>\n",
       "      <td>-0.164486</td>\n",
       "      <td>0.291873</td>\n",
       "      <td>43.0</td>\n",
       "    </tr>\n",
       "    <tr>\n",
       "      <th>M9P</th>\n",
       "      <td>-0.040522</td>\n",
       "      <td>0.801393</td>\n",
       "      <td>41.0</td>\n",
       "    </tr>\n",
       "    <tr>\n",
       "      <th>M9R</th>\n",
       "      <td>-0.138262</td>\n",
       "      <td>0.376596</td>\n",
       "      <td>43.0</td>\n",
       "    </tr>\n",
       "    <tr>\n",
       "      <th>M9V</th>\n",
       "      <td>0.067012</td>\n",
       "      <td>0.669407</td>\n",
       "      <td>43.0</td>\n",
       "    </tr>\n",
       "    <tr>\n",
       "      <th>M9W</th>\n",
       "      <td>-0.212640</td>\n",
       "      <td>0.165809</td>\n",
       "      <td>44.0</td>\n",
       "    </tr>\n",
       "  </tbody>\n",
       "</table>\n",
       "<p>96 rows × 3 columns</p>\n",
       "</div>"
      ]
     },
     "execution_count": 209,
     "metadata": {},
     "output_type": "execute_result"
    }
   ],
   "execution_count": 209
  },
  {
   "metadata": {},
   "cell_type": "markdown",
   "source": [
    "Interestingly, some areas where the result is definitely signficant, but nearly all have a correlation coefficient between 0.5 and -0.5 suggesting that the significant correlations are that there's no correlation.\n",
    "\n",
    "For a final point, I want to also see if indicators of serious covid cases (Intubation, ICU admission, hospitalization) are related to high acuity EMS call volume. Intuitively I doubt it because the counts are so low (1.12 max), but you never know."
   ],
   "id": "6a0d2360e2879468"
  },
  {
   "metadata": {
    "ExecuteTime": {
     "end_time": "2025-08-13T01:37:27.793682Z",
     "start_time": "2025-08-13T01:37:27.789431Z"
    }
   },
   "cell_type": "code",
   "source": "weekly_data['Serious Case Indicators per 1000'] = weekly_data[['Ever in ICU per 1000', 'Ever Intubated per 1000', 'Ever Hospitalized per 1000']].sum(axis=1)",
   "id": "7b0b2f8168451c58",
   "outputs": [],
   "execution_count": 210
  },
  {
   "metadata": {
    "ExecuteTime": {
     "end_time": "2025-08-13T01:37:27.852981Z",
     "start_time": "2025-08-13T01:37:27.849324Z"
    }
   },
   "cell_type": "code",
   "source": "filtered_weekly_data = weekly_data[(weekly_data['Serious Case Indicators per 1000'] > 0) & (weekly_data['EMS Calls'] > 10)]",
   "id": "6427d5f3540e069b",
   "outputs": [],
   "execution_count": 211
  },
  {
   "metadata": {
    "ExecuteTime": {
     "end_time": "2025-08-13T01:37:27.908397Z",
     "start_time": "2025-08-13T01:37:27.897774Z"
    }
   },
   "cell_type": "code",
   "source": "filtered_weekly_data.head()",
   "id": "1442aed9922af315",
   "outputs": [
    {
     "data": {
      "text/plain": [
       "                Ever Hospitalized  Ever in ICU  Ever Intubated  Weekly Cases  \\\n",
       "Week Start FSA                                                                 \n",
       "2020-01-26 M2N                  1            0               0             2   \n",
       "2020-02-23 M2N                  1            0               0             1   \n",
       "2020-03-01 M6A                  1            1               1             1   \n",
       "2020-03-08 M1B                  1            1               1             1   \n",
       "           M1E                  1            0               0             1   \n",
       "\n",
       "                Weekly Cases per 1000  Ever Hospitalized per 1000  \\\n",
       "Week Start FSA                                                      \n",
       "2020-01-26 M2N               0.026631                    0.013316   \n",
       "2020-02-23 M2N               0.013316                    0.013316   \n",
       "2020-03-01 M6A               0.044683                    0.044683   \n",
       "2020-03-08 M1B               0.015254                    0.015254   \n",
       "           M1E               0.020819                    0.020819   \n",
       "\n",
       "                Ever in ICU per 1000  Ever Intubated per 1000  EMS Calls  \\\n",
       "Week Start FSA                                                             \n",
       "2020-01-26 M2N              0.000000                 0.000000         79   \n",
       "2020-02-23 M2N              0.000000                 0.000000         93   \n",
       "2020-03-01 M6A              0.044683                 0.044683         65   \n",
       "2020-03-08 M1B              0.015254                 0.015254         95   \n",
       "           M1E              0.000000                 0.000000         89   \n",
       "\n",
       "                Priority_Name_High  ...  % of calls are High Acuity  CFSAUID  \\\n",
       "Week Start FSA                      ...                                        \n",
       "2020-01-26 M2N                  39  ...                    0.518987      M2N   \n",
       "2020-02-23 M2N                  50  ...                    0.537634      M2N   \n",
       "2020-03-01 M6A                  28  ...                    0.461538      M6A   \n",
       "2020-03-08 M1B                  48  ...                    0.536842      M1B   \n",
       "           M1E                  41  ...                    0.494382      M1E   \n",
       "\n",
       "                       DGUID  PRUID   PRNAME LANDAREA  \\\n",
       "Week Start FSA                                          \n",
       "2020-01-26 M2N  2021A0011M2N     35  Ontario   9.5924   \n",
       "2020-02-23 M2N  2021A0011M2N     35  Ontario   9.5924   \n",
       "2020-03-01 M6A  2021A0011M6A     35  Ontario   5.5599   \n",
       "2020-03-08 M1B  2021A0011M1B     35  Ontario  35.3539   \n",
       "           M1E  2021A0011M1E     35  Ontario  15.8104   \n",
       "\n",
       "                                                         geometry  \\\n",
       "Week Start FSA                                                      \n",
       "2020-01-26 M2N  POLYGON ((7221634.897 942015.574, 7221671.577 ...   \n",
       "2020-02-23 M2N  POLYGON ((7221634.897 942015.574, 7221671.577 ...   \n",
       "2020-03-01 M6A  POLYGON ((7218978.851 936921.534, 7218984.82 9...   \n",
       "2020-03-08 M1B  POLYGON ((7238905.477 952236.209, 7239316.163 ...   \n",
       "           M1E  MULTIPOLYGON (((7239497.386 946350.946, 723952...   \n",
       "\n",
       "               Weekly Cases per 1000 Lag +1  Weekly Cases per 1000 Lag -1  \\\n",
       "Week Start FSA                                                              \n",
       "2020-01-26 M2N                          NaN                      0.102554   \n",
       "2020-02-23 M2N                     0.019675                      0.065377   \n",
       "2020-03-01 M6A                     0.016691                      0.023747   \n",
       "2020-03-08 M1B                     0.041246                      0.028057   \n",
       "           M1E                     0.028057                      0.041729   \n",
       "\n",
       "               Serious Case Indicators per 1000  \n",
       "Week Start FSA                                   \n",
       "2020-01-26 M2N                         0.013316  \n",
       "2020-02-23 M2N                         0.013316  \n",
       "2020-03-01 M6A                         0.134048  \n",
       "2020-03-08 M1B                         0.045763  \n",
       "           M1E                         0.020819  \n",
       "\n",
       "[5 rows x 23 columns]"
      ],
      "text/html": [
       "<div>\n",
       "<style scoped>\n",
       "    .dataframe tbody tr th:only-of-type {\n",
       "        vertical-align: middle;\n",
       "    }\n",
       "\n",
       "    .dataframe tbody tr th {\n",
       "        vertical-align: top;\n",
       "    }\n",
       "\n",
       "    .dataframe thead th {\n",
       "        text-align: right;\n",
       "    }\n",
       "</style>\n",
       "<table border=\"1\" class=\"dataframe\">\n",
       "  <thead>\n",
       "    <tr style=\"text-align: right;\">\n",
       "      <th></th>\n",
       "      <th></th>\n",
       "      <th>Ever Hospitalized</th>\n",
       "      <th>Ever in ICU</th>\n",
       "      <th>Ever Intubated</th>\n",
       "      <th>Weekly Cases</th>\n",
       "      <th>Weekly Cases per 1000</th>\n",
       "      <th>Ever Hospitalized per 1000</th>\n",
       "      <th>Ever in ICU per 1000</th>\n",
       "      <th>Ever Intubated per 1000</th>\n",
       "      <th>EMS Calls</th>\n",
       "      <th>Priority_Name_High</th>\n",
       "      <th>...</th>\n",
       "      <th>% of calls are High Acuity</th>\n",
       "      <th>CFSAUID</th>\n",
       "      <th>DGUID</th>\n",
       "      <th>PRUID</th>\n",
       "      <th>PRNAME</th>\n",
       "      <th>LANDAREA</th>\n",
       "      <th>geometry</th>\n",
       "      <th>Weekly Cases per 1000 Lag +1</th>\n",
       "      <th>Weekly Cases per 1000 Lag -1</th>\n",
       "      <th>Serious Case Indicators per 1000</th>\n",
       "    </tr>\n",
       "    <tr>\n",
       "      <th>Week Start</th>\n",
       "      <th>FSA</th>\n",
       "      <th></th>\n",
       "      <th></th>\n",
       "      <th></th>\n",
       "      <th></th>\n",
       "      <th></th>\n",
       "      <th></th>\n",
       "      <th></th>\n",
       "      <th></th>\n",
       "      <th></th>\n",
       "      <th></th>\n",
       "      <th></th>\n",
       "      <th></th>\n",
       "      <th></th>\n",
       "      <th></th>\n",
       "      <th></th>\n",
       "      <th></th>\n",
       "      <th></th>\n",
       "      <th></th>\n",
       "      <th></th>\n",
       "      <th></th>\n",
       "      <th></th>\n",
       "    </tr>\n",
       "  </thead>\n",
       "  <tbody>\n",
       "    <tr>\n",
       "      <th>2020-01-26</th>\n",
       "      <th>M2N</th>\n",
       "      <td>1</td>\n",
       "      <td>0</td>\n",
       "      <td>0</td>\n",
       "      <td>2</td>\n",
       "      <td>0.026631</td>\n",
       "      <td>0.013316</td>\n",
       "      <td>0.000000</td>\n",
       "      <td>0.000000</td>\n",
       "      <td>79</td>\n",
       "      <td>39</td>\n",
       "      <td>...</td>\n",
       "      <td>0.518987</td>\n",
       "      <td>M2N</td>\n",
       "      <td>2021A0011M2N</td>\n",
       "      <td>35</td>\n",
       "      <td>Ontario</td>\n",
       "      <td>9.5924</td>\n",
       "      <td>POLYGON ((7221634.897 942015.574, 7221671.577 ...</td>\n",
       "      <td>NaN</td>\n",
       "      <td>0.102554</td>\n",
       "      <td>0.013316</td>\n",
       "    </tr>\n",
       "    <tr>\n",
       "      <th>2020-02-23</th>\n",
       "      <th>M2N</th>\n",
       "      <td>1</td>\n",
       "      <td>0</td>\n",
       "      <td>0</td>\n",
       "      <td>1</td>\n",
       "      <td>0.013316</td>\n",
       "      <td>0.013316</td>\n",
       "      <td>0.000000</td>\n",
       "      <td>0.000000</td>\n",
       "      <td>93</td>\n",
       "      <td>50</td>\n",
       "      <td>...</td>\n",
       "      <td>0.537634</td>\n",
       "      <td>M2N</td>\n",
       "      <td>2021A0011M2N</td>\n",
       "      <td>35</td>\n",
       "      <td>Ontario</td>\n",
       "      <td>9.5924</td>\n",
       "      <td>POLYGON ((7221634.897 942015.574, 7221671.577 ...</td>\n",
       "      <td>0.019675</td>\n",
       "      <td>0.065377</td>\n",
       "      <td>0.013316</td>\n",
       "    </tr>\n",
       "    <tr>\n",
       "      <th>2020-03-01</th>\n",
       "      <th>M6A</th>\n",
       "      <td>1</td>\n",
       "      <td>1</td>\n",
       "      <td>1</td>\n",
       "      <td>1</td>\n",
       "      <td>0.044683</td>\n",
       "      <td>0.044683</td>\n",
       "      <td>0.044683</td>\n",
       "      <td>0.044683</td>\n",
       "      <td>65</td>\n",
       "      <td>28</td>\n",
       "      <td>...</td>\n",
       "      <td>0.461538</td>\n",
       "      <td>M6A</td>\n",
       "      <td>2021A0011M6A</td>\n",
       "      <td>35</td>\n",
       "      <td>Ontario</td>\n",
       "      <td>5.5599</td>\n",
       "      <td>POLYGON ((7218978.851 936921.534, 7218984.82 9...</td>\n",
       "      <td>0.016691</td>\n",
       "      <td>0.023747</td>\n",
       "      <td>0.134048</td>\n",
       "    </tr>\n",
       "    <tr>\n",
       "      <th rowspan=\"2\" valign=\"top\">2020-03-08</th>\n",
       "      <th>M1B</th>\n",
       "      <td>1</td>\n",
       "      <td>1</td>\n",
       "      <td>1</td>\n",
       "      <td>1</td>\n",
       "      <td>0.015254</td>\n",
       "      <td>0.015254</td>\n",
       "      <td>0.015254</td>\n",
       "      <td>0.015254</td>\n",
       "      <td>95</td>\n",
       "      <td>48</td>\n",
       "      <td>...</td>\n",
       "      <td>0.536842</td>\n",
       "      <td>M1B</td>\n",
       "      <td>2021A0011M1B</td>\n",
       "      <td>35</td>\n",
       "      <td>Ontario</td>\n",
       "      <td>35.3539</td>\n",
       "      <td>POLYGON ((7238905.477 952236.209, 7239316.163 ...</td>\n",
       "      <td>0.041246</td>\n",
       "      <td>0.028057</td>\n",
       "      <td>0.045763</td>\n",
       "    </tr>\n",
       "    <tr>\n",
       "      <th>M1E</th>\n",
       "      <td>1</td>\n",
       "      <td>0</td>\n",
       "      <td>0</td>\n",
       "      <td>1</td>\n",
       "      <td>0.020819</td>\n",
       "      <td>0.020819</td>\n",
       "      <td>0.000000</td>\n",
       "      <td>0.000000</td>\n",
       "      <td>89</td>\n",
       "      <td>41</td>\n",
       "      <td>...</td>\n",
       "      <td>0.494382</td>\n",
       "      <td>M1E</td>\n",
       "      <td>2021A0011M1E</td>\n",
       "      <td>35</td>\n",
       "      <td>Ontario</td>\n",
       "      <td>15.8104</td>\n",
       "      <td>MULTIPOLYGON (((7239497.386 946350.946, 723952...</td>\n",
       "      <td>0.028057</td>\n",
       "      <td>0.041729</td>\n",
       "      <td>0.020819</td>\n",
       "    </tr>\n",
       "  </tbody>\n",
       "</table>\n",
       "<p>5 rows × 23 columns</p>\n",
       "</div>"
      ]
     },
     "execution_count": 212,
     "metadata": {},
     "output_type": "execute_result"
    }
   ],
   "execution_count": 212
  },
  {
   "metadata": {
    "ExecuteTime": {
     "end_time": "2025-08-13T01:37:28.047578Z",
     "start_time": "2025-08-13T01:37:27.980818Z"
    }
   },
   "cell_type": "code",
   "source": "sns.scatterplot(filtered_weekly_data, x = '% of calls are High Acuity', y = 'Serious Case Indicators per 1000', alpha = 0.5)",
   "id": "9317c907cb6cc180",
   "outputs": [
    {
     "data": {
      "text/plain": [
       "<Axes: xlabel='% of calls are High Acuity', ylabel='Serious Case Indicators per 1000'>"
      ]
     },
     "execution_count": 213,
     "metadata": {},
     "output_type": "execute_result"
    },
    {
     "data": {
      "text/plain": [
       "<Figure size 640x480 with 1 Axes>"
      ],
      "image/png": "[encoded data removed]"
     },
     "metadata": {},
     "output_type": "display_data"
    }
   ],
   "execution_count": 213
  },
  {
   "metadata": {
    "ExecuteTime": {
     "end_time": "2025-08-13T01:37:28.077244Z",
     "start_time": "2025-08-13T01:37:28.073093Z"
    }
   },
   "cell_type": "code",
   "source": [
    "filtered_weekly_data.loc[:, 'Serious Case Indicators per 1000 Lag +1'] = filtered_weekly_data['Serious Case Indicators per 1000'].shift(1)\n",
    "filtered_weekly_data.loc[:, 'Serious Case Indicators per 1000 Lag -1'] = filtered_weekly_data['Serious Case Indicators per 1000'].shift(-1)"
   ],
   "id": "83a594d63ad1921f",
   "outputs": [
    {
     "name": "stderr",
     "output_type": "stream",
     "text": [
      "C:\\Users\\David\\AppData\\Local\\Temp\\ipykernel_37260\\4142249810.py:1: SettingWithCopyWarning: \n",
      "A value is trying to be set on a copy of a slice from a DataFrame.\n",
      "Try using .loc[row_indexer,col_indexer] = value instead\n",
      "\n",
      "See the caveats in the documentation: https://pandas.pydata.org/pandas-docs/stable/user_guide/indexing.html#returning-a-view-versus-a-copy\n",
      "  filtered_weekly_data.loc[:, 'Serious Case Indicators per 1000 Lag +1'] = filtered_weekly_data['Serious Case Indicators per 1000'].shift(1)\n",
      "C:\\Users\\David\\AppData\\Local\\Temp\\ipykernel_37260\\4142249810.py:2: SettingWithCopyWarning: \n",
      "A value is trying to be set on a copy of a slice from a DataFrame.\n",
      "Try using .loc[row_indexer,col_indexer] = value instead\n",
      "\n",
      "See the caveats in the documentation: https://pandas.pydata.org/pandas-docs/stable/user_guide/indexing.html#returning-a-view-versus-a-copy\n",
      "  filtered_weekly_data.loc[:, 'Serious Case Indicators per 1000 Lag -1'] = filtered_weekly_data['Serious Case Indicators per 1000'].shift(-1)\n"
     ]
    }
   ],
   "execution_count": 214
  },
  {
   "metadata": {
    "ExecuteTime": {
     "end_time": "2025-08-13T01:37:28.110999Z",
     "start_time": "2025-08-13T01:37:28.107759Z"
    }
   },
   "cell_type": "code",
   "source": [
    "def calculate_weekly_high_acuity_stats(group):\n",
    "    cases = group['Serious Case Indicators per 1000']\n",
    "    ems_calls = group['Weekly EMS Calls per 1000']\n",
    "\n",
    "    if len(cases) < 3:\n",
    "        return pd.Series({'correlation': np.nan, 'p_value': np.nan})\n",
    "\n",
    "    corr, p_val = pearsonr(cases, ems_calls)\n",
    "    return pd.Series({'correlation': corr, 'p_value': p_val})"
   ],
   "id": "beacecc0244e4628",
   "outputs": [],
   "execution_count": 215
  },
  {
   "metadata": {
    "ExecuteTime": {
     "end_time": "2025-08-13T01:37:28.152939Z",
     "start_time": "2025-08-13T01:37:28.133009Z"
    }
   },
   "cell_type": "code",
   "source": "weekly_high_acuity_stats = filtered_weekly_data.groupby('Week Start').apply(calculate_weekly_high_acuity_stats)",
   "id": "5ec3df551d7a91e6",
   "outputs": [],
   "execution_count": 216
  },
  {
   "metadata": {
    "ExecuteTime": {
     "end_time": "2025-08-13T01:37:28.165617Z",
     "start_time": "2025-08-13T01:37:28.160445Z"
    }
   },
   "cell_type": "code",
   "source": "weekly_high_acuity_stats",
   "id": "d371df81f8619702",
   "outputs": [
    {
     "data": {
      "text/plain": [
       "            correlation   p_value\n",
       "Week Start                       \n",
       "2020-01-26          NaN       NaN\n",
       "2020-02-23          NaN       NaN\n",
       "2020-03-01          NaN       NaN\n",
       "2020-03-08     0.181962  0.696180\n",
       "2020-03-15    -0.121232  0.546933\n",
       "2020-03-22     0.119034  0.395912\n",
       "2020-03-29     0.067804  0.588547\n",
       "2020-04-05     0.173012  0.178708\n",
       "2020-04-12     0.340481  0.005906\n",
       "2020-04-19     0.412653  0.000950\n",
       "2020-04-26     0.330797  0.011204\n",
       "2020-05-03     0.354117  0.003533\n",
       "2020-05-10     0.229918  0.104575\n",
       "2020-05-17     0.247847  0.085971\n",
       "2020-05-24     0.293645  0.050253\n",
       "2020-05-31     0.168849  0.291275\n",
       "2020-06-07     0.218722  0.221372\n",
       "2020-06-14     0.191783  0.369314\n",
       "2020-06-21     0.340485  0.141844\n",
       "2020-06-28    -0.205878  0.543634\n",
       "2020-07-05    -0.081725  0.790689\n",
       "2020-07-12     0.410104  0.128953\n",
       "2020-07-19     0.293025  0.355318\n",
       "2020-07-26     0.076400  0.857306\n",
       "2020-08-02     0.346037  0.447080\n",
       "2020-08-09     0.532800  0.355242\n",
       "2020-08-16     0.879874  0.049069\n",
       "2020-08-23     0.708663  0.049099\n",
       "2020-08-30    -0.337477  0.340257\n",
       "2020-09-06     0.662427  0.003762\n",
       "2020-09-13     0.352204  0.099308\n",
       "2020-09-20     0.482023  0.008100\n",
       "2020-09-27     0.165869  0.319618\n",
       "2020-10-04     0.268684  0.070994\n",
       "2020-10-11     0.161251  0.333463\n",
       "2020-10-18     0.066302  0.654340\n",
       "2020-10-25     0.397633  0.005131\n",
       "2020-11-01     0.252307  0.071153\n",
       "2020-11-08     0.172678  0.256664\n",
       "2020-11-15    -0.010979  0.934225\n",
       "2020-11-22    -0.139515  0.314337\n",
       "2020-11-29    -0.066872  0.596617\n",
       "2020-12-06     0.208342  0.090669\n",
       "2020-12-13     0.043857  0.718472\n",
       "2020-12-20     0.243213  0.044039\n",
       "2020-12-27     0.384213  0.000791\n",
       "2021-01-03     0.227557  0.056325"
      ],
      "text/html": [
       "<div>\n",
       "<style scoped>\n",
       "    .dataframe tbody tr th:only-of-type {\n",
       "        vertical-align: middle;\n",
       "    }\n",
       "\n",
       "    .dataframe tbody tr th {\n",
       "        vertical-align: top;\n",
       "    }\n",
       "\n",
       "    .dataframe thead th {\n",
       "        text-align: right;\n",
       "    }\n",
       "</style>\n",
       "<table border=\"1\" class=\"dataframe\">\n",
       "  <thead>\n",
       "    <tr style=\"text-align: right;\">\n",
       "      <th></th>\n",
       "      <th>correlation</th>\n",
       "      <th>p_value</th>\n",
       "    </tr>\n",
       "    <tr>\n",
       "      <th>Week Start</th>\n",
       "      <th></th>\n",
       "      <th></th>\n",
       "    </tr>\n",
       "  </thead>\n",
       "  <tbody>\n",
       "    <tr>\n",
       "      <th>2020-01-26</th>\n",
       "      <td>NaN</td>\n",
       "      <td>NaN</td>\n",
       "    </tr>\n",
       "    <tr>\n",
       "      <th>2020-02-23</th>\n",
       "      <td>NaN</td>\n",
       "      <td>NaN</td>\n",
       "    </tr>\n",
       "    <tr>\n",
       "      <th>2020-03-01</th>\n",
       "      <td>NaN</td>\n",
       "      <td>NaN</td>\n",
       "    </tr>\n",
       "    <tr>\n",
       "      <th>2020-03-08</th>\n",
       "      <td>0.181962</td>\n",
       "      <td>0.696180</td>\n",
       "    </tr>\n",
       "    <tr>\n",
       "      <th>2020-03-15</th>\n",
       "      <td>-0.121232</td>\n",
       "      <td>0.546933</td>\n",
       "    </tr>\n",
       "    <tr>\n",
       "      <th>2020-03-22</th>\n",
       "      <td>0.119034</td>\n",
       "      <td>0.395912</td>\n",
       "    </tr>\n",
       "    <tr>\n",
       "      <th>2020-03-29</th>\n",
       "      <td>0.067804</td>\n",
       "      <td>0.588547</td>\n",
       "    </tr>\n",
       "    <tr>\n",
       "      <th>2020-04-05</th>\n",
       "      <td>0.173012</td>\n",
       "      <td>0.178708</td>\n",
       "    </tr>\n",
       "    <tr>\n",
       "      <th>2020-04-12</th>\n",
       "      <td>0.340481</td>\n",
       "      <td>0.005906</td>\n",
       "    </tr>\n",
       "    <tr>\n",
       "      <th>2020-04-19</th>\n",
       "      <td>0.412653</td>\n",
       "      <td>0.000950</td>\n",
       "    </tr>\n",
       "    <tr>\n",
       "      <th>2020-04-26</th>\n",
       "      <td>0.330797</td>\n",
       "      <td>0.011204</td>\n",
       "    </tr>\n",
       "    <tr>\n",
       "      <th>2020-05-03</th>\n",
       "      <td>0.354117</td>\n",
       "      <td>0.003533</td>\n",
       "    </tr>\n",
       "    <tr>\n",
       "      <th>2020-05-10</th>\n",
       "      <td>0.229918</td>\n",
       "      <td>0.104575</td>\n",
       "    </tr>\n",
       "    <tr>\n",
       "      <th>2020-05-17</th>\n",
       "      <td>0.247847</td>\n",
       "      <td>0.085971</td>\n",
       "    </tr>\n",
       "    <tr>\n",
       "      <th>2020-05-24</th>\n",
       "      <td>0.293645</td>\n",
       "      <td>0.050253</td>\n",
       "    </tr>\n",
       "    <tr>\n",
       "      <th>2020-05-31</th>\n",
       "      <td>0.168849</td>\n",
       "      <td>0.291275</td>\n",
       "    </tr>\n",
       "    <tr>\n",
       "      <th>2020-06-07</th>\n",
       "      <td>0.218722</td>\n",
       "      <td>0.221372</td>\n",
       "    </tr>\n",
       "    <tr>\n",
       "      <th>2020-06-14</th>\n",
       "      <td>0.191783</td>\n",
       "      <td>0.369314</td>\n",
       "    </tr>\n",
       "    <tr>\n",
       "      <th>2020-06-21</th>\n",
       "      <td>0.340485</td>\n",
       "      <td>0.141844</td>\n",
       "    </tr>\n",
       "    <tr>\n",
       "      <th>2020-06-28</th>\n",
       "      <td>-0.205878</td>\n",
       "      <td>0.543634</td>\n",
       "    </tr>\n",
       "    <tr>\n",
       "      <th>2020-07-05</th>\n",
       "      <td>-0.081725</td>\n",
       "      <td>0.790689</td>\n",
       "    </tr>\n",
       "    <tr>\n",
       "      <th>2020-07-12</th>\n",
       "      <td>0.410104</td>\n",
       "      <td>0.128953</td>\n",
       "    </tr>\n",
       "    <tr>\n",
       "      <th>2020-07-19</th>\n",
       "      <td>0.293025</td>\n",
       "      <td>0.355318</td>\n",
       "    </tr>\n",
       "    <tr>\n",
       "      <th>2020-07-26</th>\n",
       "      <td>0.076400</td>\n",
       "      <td>0.857306</td>\n",
       "    </tr>\n",
       "    <tr>\n",
       "      <th>2020-08-02</th>\n",
       "      <td>0.346037</td>\n",
       "      <td>0.447080</td>\n",
       "    </tr>\n",
       "    <tr>\n",
       "      <th>2020-08-09</th>\n",
       "      <td>0.532800</td>\n",
       "      <td>0.355242</td>\n",
       "    </tr>\n",
       "    <tr>\n",
       "      <th>2020-08-16</th>\n",
       "      <td>0.879874</td>\n",
       "      <td>0.049069</td>\n",
       "    </tr>\n",
       "    <tr>\n",
       "      <th>2020-08-23</th>\n",
       "      <td>0.708663</td>\n",
       "      <td>0.049099</td>\n",
       "    </tr>\n",
       "    <tr>\n",
       "      <th>2020-08-30</th>\n",
       "      <td>-0.337477</td>\n",
       "      <td>0.340257</td>\n",
       "    </tr>\n",
       "    <tr>\n",
       "      <th>2020-09-06</th>\n",
       "      <td>0.662427</td>\n",
       "      <td>0.003762</td>\n",
       "    </tr>\n",
       "    <tr>\n",
       "      <th>2020-09-13</th>\n",
       "      <td>0.352204</td>\n",
       "      <td>0.099308</td>\n",
       "    </tr>\n",
       "    <tr>\n",
       "      <th>2020-09-20</th>\n",
       "      <td>0.482023</td>\n",
       "      <td>0.008100</td>\n",
       "    </tr>\n",
       "    <tr>\n",
       "      <th>2020-09-27</th>\n",
       "      <td>0.165869</td>\n",
       "      <td>0.319618</td>\n",
       "    </tr>\n",
       "    <tr>\n",
       "      <th>2020-10-04</th>\n",
       "      <td>0.268684</td>\n",
       "      <td>0.070994</td>\n",
       "    </tr>\n",
       "    <tr>\n",
       "      <th>2020-10-11</th>\n",
       "      <td>0.161251</td>\n",
       "      <td>0.333463</td>\n",
       "    </tr>\n",
       "    <tr>\n",
       "      <th>2020-10-18</th>\n",
       "      <td>0.066302</td>\n",
       "      <td>0.654340</td>\n",
       "    </tr>\n",
       "    <tr>\n",
       "      <th>2020-10-25</th>\n",
       "      <td>0.397633</td>\n",
       "      <td>0.005131</td>\n",
       "    </tr>\n",
       "    <tr>\n",
       "      <th>2020-11-01</th>\n",
       "      <td>0.252307</td>\n",
       "      <td>0.071153</td>\n",
       "    </tr>\n",
       "    <tr>\n",
       "      <th>2020-11-08</th>\n",
       "      <td>0.172678</td>\n",
       "      <td>0.256664</td>\n",
       "    </tr>\n",
       "    <tr>\n",
       "      <th>2020-11-15</th>\n",
       "      <td>-0.010979</td>\n",
       "      <td>0.934225</td>\n",
       "    </tr>\n",
       "    <tr>\n",
       "      <th>2020-11-22</th>\n",
       "      <td>-0.139515</td>\n",
       "      <td>0.314337</td>\n",
       "    </tr>\n",
       "    <tr>\n",
       "      <th>2020-11-29</th>\n",
       "      <td>-0.066872</td>\n",
       "      <td>0.596617</td>\n",
       "    </tr>\n",
       "    <tr>\n",
       "      <th>2020-12-06</th>\n",
       "      <td>0.208342</td>\n",
       "      <td>0.090669</td>\n",
       "    </tr>\n",
       "    <tr>\n",
       "      <th>2020-12-13</th>\n",
       "      <td>0.043857</td>\n",
       "      <td>0.718472</td>\n",
       "    </tr>\n",
       "    <tr>\n",
       "      <th>2020-12-20</th>\n",
       "      <td>0.243213</td>\n",
       "      <td>0.044039</td>\n",
       "    </tr>\n",
       "    <tr>\n",
       "      <th>2020-12-27</th>\n",
       "      <td>0.384213</td>\n",
       "      <td>0.000791</td>\n",
       "    </tr>\n",
       "    <tr>\n",
       "      <th>2021-01-03</th>\n",
       "      <td>0.227557</td>\n",
       "      <td>0.056325</td>\n",
       "    </tr>\n",
       "  </tbody>\n",
       "</table>\n",
       "</div>"
      ]
     },
     "execution_count": 217,
     "metadata": {},
     "output_type": "execute_result"
    }
   ],
   "execution_count": 217
  },
  {
   "metadata": {},
   "cell_type": "markdown",
   "source": "Well, we got a few more weeks that were significant but all showed no correlation. Let's quickly look at the leads and lags and then move on.",
   "id": "fb2f7d53147e039b"
  },
  {
   "metadata": {
    "ExecuteTime": {
     "end_time": "2025-08-13T01:37:28.205886Z",
     "start_time": "2025-08-13T01:37:28.202791Z"
    }
   },
   "cell_type": "code",
   "source": [
    "def calculate_weekly_high_acuity_stats_plus_one(group):\n",
    "    cases = group['Serious Case Indicators per 1000 Lag +1']\n",
    "    ems_calls = group['Weekly EMS Calls per 1000']\n",
    "\n",
    "    if len(cases) < 3:\n",
    "        return pd.Series({'correlation': np.nan, 'p_value': np.nan})\n",
    "\n",
    "    corr, p_val = pearsonr(cases, ems_calls)\n",
    "    return pd.Series({'correlation': corr, 'p_value': p_val})"
   ],
   "id": "6d27c57f8eb40129",
   "outputs": [],
   "execution_count": 218
  },
  {
   "metadata": {
    "ExecuteTime": {
     "end_time": "2025-08-13T01:37:28.293884Z",
     "start_time": "2025-08-13T01:37:28.270581Z"
    }
   },
   "cell_type": "code",
   "source": "weekly_high_acuity_stats_plus_one = filtered_weekly_data.groupby('Week Start').apply(calculate_weekly_high_acuity_stats_plus_one)\n",
   "id": "188457b5e963f991",
   "outputs": [],
   "execution_count": 219
  },
  {
   "metadata": {
    "ExecuteTime": {
     "end_time": "2025-08-13T01:37:28.322162Z",
     "start_time": "2025-08-13T01:37:28.316894Z"
    }
   },
   "cell_type": "code",
   "source": "weekly_high_acuity_stats_plus_one",
   "id": "2cf03b53e61593d9",
   "outputs": [
    {
     "data": {
      "text/plain": [
       "            correlation   p_value\n",
       "Week Start                       \n",
       "2020-01-26          NaN       NaN\n",
       "2020-02-23          NaN       NaN\n",
       "2020-03-01          NaN       NaN\n",
       "2020-03-08    -0.505696  0.246925\n",
       "2020-03-15     0.259180  0.191738\n",
       "2020-03-22     0.120885  0.388556\n",
       "2020-03-29     0.040375  0.747548\n",
       "2020-04-05    -0.081678  0.527976\n",
       "2020-04-12     0.078886  0.535508\n",
       "2020-04-19     0.242202  0.060022\n",
       "2020-04-26     0.111604  0.404250\n",
       "2020-05-03     0.005991  0.961923\n",
       "2020-05-10    -0.067656  0.637126\n",
       "2020-05-17    -0.017449  0.905278\n",
       "2020-05-24    -0.145896  0.338927\n",
       "2020-05-31    -0.089652  0.577235\n",
       "2020-06-07     0.058787  0.745207\n",
       "2020-06-14     0.198177  0.353257\n",
       "2020-06-21    -0.123540  0.603826\n",
       "2020-06-28    -0.268117  0.425369\n",
       "2020-07-05    -0.444484  0.128072\n",
       "2020-07-12     0.275519  0.320262\n",
       "2020-07-19     0.190476  0.553199\n",
       "2020-07-26     0.387611  0.342743\n",
       "2020-08-02    -0.596967  0.157025\n",
       "2020-08-09     0.035544  0.954754\n",
       "2020-08-16    -0.968360  0.006724\n",
       "2020-08-23    -0.046293  0.913325\n",
       "2020-08-30     0.496674  0.144203\n",
       "2020-09-06     0.317302  0.214607\n",
       "2020-09-13     0.084632  0.701026\n",
       "2020-09-20     0.190815  0.321432\n",
       "2020-09-27     0.508316  0.001121\n",
       "2020-10-04     0.228804  0.126143\n",
       "2020-10-11    -0.126074  0.450711\n",
       "2020-10-18     0.329330  0.022272\n",
       "2020-10-25    -0.047167  0.750221\n",
       "2020-11-01    -0.159888  0.257531\n",
       "2020-11-08     0.181259  0.233414\n",
       "2020-11-15     0.026306  0.843223\n",
       "2020-11-22    -0.147807  0.286148\n",
       "2020-11-29    -0.026955  0.831218\n",
       "2020-12-06     0.001150  0.992633\n",
       "2020-12-13    -0.200144  0.096667\n",
       "2020-12-20     0.000643  0.995818\n",
       "2020-12-27     0.035490  0.765639\n",
       "2021-01-03     0.035342  0.769825"
      ],
      "text/html": [
       "<div>\n",
       "<style scoped>\n",
       "    .dataframe tbody tr th:only-of-type {\n",
       "        vertical-align: middle;\n",
       "    }\n",
       "\n",
       "    .dataframe tbody tr th {\n",
       "        vertical-align: top;\n",
       "    }\n",
       "\n",
       "    .dataframe thead th {\n",
       "        text-align: right;\n",
       "    }\n",
       "</style>\n",
       "<table border=\"1\" class=\"dataframe\">\n",
       "  <thead>\n",
       "    <tr style=\"text-align: right;\">\n",
       "      <th></th>\n",
       "      <th>correlation</th>\n",
       "      <th>p_value</th>\n",
       "    </tr>\n",
       "    <tr>\n",
       "      <th>Week Start</th>\n",
       "      <th></th>\n",
       "      <th></th>\n",
       "    </tr>\n",
       "  </thead>\n",
       "  <tbody>\n",
       "    <tr>\n",
       "      <th>2020-01-26</th>\n",
       "      <td>NaN</td>\n",
       "      <td>NaN</td>\n",
       "    </tr>\n",
       "    <tr>\n",
       "      <th>2020-02-23</th>\n",
       "      <td>NaN</td>\n",
       "      <td>NaN</td>\n",
       "    </tr>\n",
       "    <tr>\n",
       "      <th>2020-03-01</th>\n",
       "      <td>NaN</td>\n",
       "      <td>NaN</td>\n",
       "    </tr>\n",
       "    <tr>\n",
       "      <th>2020-03-08</th>\n",
       "      <td>-0.505696</td>\n",
       "      <td>0.246925</td>\n",
       "    </tr>\n",
       "    <tr>\n",
       "      <th>2020-03-15</th>\n",
       "      <td>0.259180</td>\n",
       "      <td>0.191738</td>\n",
       "    </tr>\n",
       "    <tr>\n",
       "      <th>2020-03-22</th>\n",
       "      <td>0.120885</td>\n",
       "      <td>0.388556</td>\n",
       "    </tr>\n",
       "    <tr>\n",
       "      <th>2020-03-29</th>\n",
       "      <td>0.040375</td>\n",
       "      <td>0.747548</td>\n",
       "    </tr>\n",
       "    <tr>\n",
       "      <th>2020-04-05</th>\n",
       "      <td>-0.081678</td>\n",
       "      <td>0.527976</td>\n",
       "    </tr>\n",
       "    <tr>\n",
       "      <th>2020-04-12</th>\n",
       "      <td>0.078886</td>\n",
       "      <td>0.535508</td>\n",
       "    </tr>\n",
       "    <tr>\n",
       "      <th>2020-04-19</th>\n",
       "      <td>0.242202</td>\n",
       "      <td>0.060022</td>\n",
       "    </tr>\n",
       "    <tr>\n",
       "      <th>2020-04-26</th>\n",
       "      <td>0.111604</td>\n",
       "      <td>0.404250</td>\n",
       "    </tr>\n",
       "    <tr>\n",
       "      <th>2020-05-03</th>\n",
       "      <td>0.005991</td>\n",
       "      <td>0.961923</td>\n",
       "    </tr>\n",
       "    <tr>\n",
       "      <th>2020-05-10</th>\n",
       "      <td>-0.067656</td>\n",
       "      <td>0.637126</td>\n",
       "    </tr>\n",
       "    <tr>\n",
       "      <th>2020-05-17</th>\n",
       "      <td>-0.017449</td>\n",
       "      <td>0.905278</td>\n",
       "    </tr>\n",
       "    <tr>\n",
       "      <th>2020-05-24</th>\n",
       "      <td>-0.145896</td>\n",
       "      <td>0.338927</td>\n",
       "    </tr>\n",
       "    <tr>\n",
       "      <th>2020-05-31</th>\n",
       "      <td>-0.089652</td>\n",
       "      <td>0.577235</td>\n",
       "    </tr>\n",
       "    <tr>\n",
       "      <th>2020-06-07</th>\n",
       "      <td>0.058787</td>\n",
       "      <td>0.745207</td>\n",
       "    </tr>\n",
       "    <tr>\n",
       "      <th>2020-06-14</th>\n",
       "      <td>0.198177</td>\n",
       "      <td>0.353257</td>\n",
       "    </tr>\n",
       "    <tr>\n",
       "      <th>2020-06-21</th>\n",
       "      <td>-0.123540</td>\n",
       "      <td>0.603826</td>\n",
       "    </tr>\n",
       "    <tr>\n",
       "      <th>2020-06-28</th>\n",
       "      <td>-0.268117</td>\n",
       "      <td>0.425369</td>\n",
       "    </tr>\n",
       "    <tr>\n",
       "      <th>2020-07-05</th>\n",
       "      <td>-0.444484</td>\n",
       "      <td>0.128072</td>\n",
       "    </tr>\n",
       "    <tr>\n",
       "      <th>2020-07-12</th>\n",
       "      <td>0.275519</td>\n",
       "      <td>0.320262</td>\n",
       "    </tr>\n",
       "    <tr>\n",
       "      <th>2020-07-19</th>\n",
       "      <td>0.190476</td>\n",
       "      <td>0.553199</td>\n",
       "    </tr>\n",
       "    <tr>\n",
       "      <th>2020-07-26</th>\n",
       "      <td>0.387611</td>\n",
       "      <td>0.342743</td>\n",
       "    </tr>\n",
       "    <tr>\n",
       "      <th>2020-08-02</th>\n",
       "      <td>-0.596967</td>\n",
       "      <td>0.157025</td>\n",
       "    </tr>\n",
       "    <tr>\n",
       "      <th>2020-08-09</th>\n",
       "      <td>0.035544</td>\n",
       "      <td>0.954754</td>\n",
       "    </tr>\n",
       "    <tr>\n",
       "      <th>2020-08-16</th>\n",
       "      <td>-0.968360</td>\n",
       "      <td>0.006724</td>\n",
       "    </tr>\n",
       "    <tr>\n",
       "      <th>2020-08-23</th>\n",
       "      <td>-0.046293</td>\n",
       "      <td>0.913325</td>\n",
       "    </tr>\n",
       "    <tr>\n",
       "      <th>2020-08-30</th>\n",
       "      <td>0.496674</td>\n",
       "      <td>0.144203</td>\n",
       "    </tr>\n",
       "    <tr>\n",
       "      <th>2020-09-06</th>\n",
       "      <td>0.317302</td>\n",
       "      <td>0.214607</td>\n",
       "    </tr>\n",
       "    <tr>\n",
       "      <th>2020-09-13</th>\n",
       "      <td>0.084632</td>\n",
       "      <td>0.701026</td>\n",
       "    </tr>\n",
       "    <tr>\n",
       "      <th>2020-09-20</th>\n",
       "      <td>0.190815</td>\n",
       "      <td>0.321432</td>\n",
       "    </tr>\n",
       "    <tr>\n",
       "      <th>2020-09-27</th>\n",
       "      <td>0.508316</td>\n",
       "      <td>0.001121</td>\n",
       "    </tr>\n",
       "    <tr>\n",
       "      <th>2020-10-04</th>\n",
       "      <td>0.228804</td>\n",
       "      <td>0.126143</td>\n",
       "    </tr>\n",
       "    <tr>\n",
       "      <th>2020-10-11</th>\n",
       "      <td>-0.126074</td>\n",
       "      <td>0.450711</td>\n",
       "    </tr>\n",
       "    <tr>\n",
       "      <th>2020-10-18</th>\n",
       "      <td>0.329330</td>\n",
       "      <td>0.022272</td>\n",
       "    </tr>\n",
       "    <tr>\n",
       "      <th>2020-10-25</th>\n",
       "      <td>-0.047167</td>\n",
       "      <td>0.750221</td>\n",
       "    </tr>\n",
       "    <tr>\n",
       "      <th>2020-11-01</th>\n",
       "      <td>-0.159888</td>\n",
       "      <td>0.257531</td>\n",
       "    </tr>\n",
       "    <tr>\n",
       "      <th>2020-11-08</th>\n",
       "      <td>0.181259</td>\n",
       "      <td>0.233414</td>\n",
       "    </tr>\n",
       "    <tr>\n",
       "      <th>2020-11-15</th>\n",
       "      <td>0.026306</td>\n",
       "      <td>0.843223</td>\n",
       "    </tr>\n",
       "    <tr>\n",
       "      <th>2020-11-22</th>\n",
       "      <td>-0.147807</td>\n",
       "      <td>0.286148</td>\n",
       "    </tr>\n",
       "    <tr>\n",
       "      <th>2020-11-29</th>\n",
       "      <td>-0.026955</td>\n",
       "      <td>0.831218</td>\n",
       "    </tr>\n",
       "    <tr>\n",
       "      <th>2020-12-06</th>\n",
       "      <td>0.001150</td>\n",
       "      <td>0.992633</td>\n",
       "    </tr>\n",
       "    <tr>\n",
       "      <th>2020-12-13</th>\n",
       "      <td>-0.200144</td>\n",
       "      <td>0.096667</td>\n",
       "    </tr>\n",
       "    <tr>\n",
       "      <th>2020-12-20</th>\n",
       "      <td>0.000643</td>\n",
       "      <td>0.995818</td>\n",
       "    </tr>\n",
       "    <tr>\n",
       "      <th>2020-12-27</th>\n",
       "      <td>0.035490</td>\n",
       "      <td>0.765639</td>\n",
       "    </tr>\n",
       "    <tr>\n",
       "      <th>2021-01-03</th>\n",
       "      <td>0.035342</td>\n",
       "      <td>0.769825</td>\n",
       "    </tr>\n",
       "  </tbody>\n",
       "</table>\n",
       "</div>"
      ]
     },
     "execution_count": 220,
     "metadata": {},
     "output_type": "execute_result"
    }
   ],
   "execution_count": 220
  },
  {
   "metadata": {},
   "cell_type": "markdown",
   "source": "Nothing there",
   "id": "96c8efff2f9e8348"
  },
  {
   "metadata": {
    "ExecuteTime": {
     "end_time": "2025-08-13T01:37:28.464901Z",
     "start_time": "2025-08-13T01:37:28.462479Z"
    }
   },
   "cell_type": "code",
   "source": [
    "def calculate_weekly_high_acuity_stats_minus_one(group):\n",
    "    cases = group['Serious Case Indicators per 1000 Lag -1']\n",
    "    ems_calls = group['Weekly EMS Calls per 1000']\n",
    "\n",
    "    if len(cases) < 3:\n",
    "        return pd.Series({'correlation': np.nan, 'p_value': np.nan})\n",
    "\n",
    "    corr, p_val = pearsonr(cases, ems_calls)\n",
    "    return pd.Series({'correlation': corr, 'p_value': p_val})"
   ],
   "id": "cb7a3679b435232d",
   "outputs": [],
   "execution_count": 221
  },
  {
   "metadata": {
    "ExecuteTime": {
     "end_time": "2025-08-13T01:37:28.540615Z",
     "start_time": "2025-08-13T01:37:28.518057Z"
    }
   },
   "cell_type": "code",
   "source": "weekly_high_acuity_stats_minus_one = filtered_weekly_data.groupby('Week Start').apply(calculate_weekly_high_acuity_stats_minus_one)\n",
   "id": "5047f6fffd062a6c",
   "outputs": [],
   "execution_count": 222
  },
  {
   "metadata": {
    "ExecuteTime": {
     "end_time": "2025-08-13T01:37:28.574002Z",
     "start_time": "2025-08-13T01:37:28.567627Z"
    }
   },
   "cell_type": "code",
   "source": "weekly_high_acuity_stats_minus_one",
   "id": "a4fffde3a78467b3",
   "outputs": [
    {
     "data": {
      "text/plain": [
       "            correlation   p_value\n",
       "Week Start                       \n",
       "2020-01-26          NaN       NaN\n",
       "2020-02-23          NaN       NaN\n",
       "2020-03-01          NaN       NaN\n",
       "2020-03-08     0.469946  0.287292\n",
       "2020-03-15    -0.015474  0.938939\n",
       "2020-03-22    -0.052322  0.709834\n",
       "2020-03-29     0.079459  0.525951\n",
       "2020-04-05     0.034131  0.792277\n",
       "2020-04-12     0.193930  0.124666\n",
       "2020-04-19     0.009884  0.939737\n",
       "2020-04-26     0.016149  0.904230\n",
       "2020-05-03    -0.089963  0.472539\n",
       "2020-05-10    -0.133713  0.349562\n",
       "2020-05-17     0.076658  0.600610\n",
       "2020-05-24     0.005446  0.971676\n",
       "2020-05-31     0.368655  0.017704\n",
       "2020-06-07     0.348276  0.047008\n",
       "2020-06-14     0.171939  0.421762\n",
       "2020-06-21    -0.091980  0.699734\n",
       "2020-06-28    -0.383654  0.244104\n",
       "2020-07-05    -0.160576  0.600243\n",
       "2020-07-12     0.185364  0.508357\n",
       "2020-07-19     0.579261  0.048410\n",
       "2020-07-26    -0.362986  0.376821\n",
       "2020-08-02     0.021910  0.962814\n",
       "2020-08-09    -0.719197  0.170899\n",
       "2020-08-16    -0.137181  0.825885\n",
       "2020-08-23    -0.055179  0.896750\n",
       "2020-08-30     0.184191  0.610475\n",
       "2020-09-06     0.193744  0.456220\n",
       "2020-09-13     0.216589  0.320883\n",
       "2020-09-20     0.128508  0.506460\n",
       "2020-09-27     0.248140  0.133060\n",
       "2020-10-04    -0.056510  0.709132\n",
       "2020-10-11    -0.133042  0.425871\n",
       "2020-10-18     0.066052  0.655563\n",
       "2020-10-25     0.164149  0.264910\n",
       "2020-11-01    -0.062586  0.659374\n",
       "2020-11-08     0.425635  0.003558\n",
       "2020-11-15     0.042266  0.750599\n",
       "2020-11-22    -0.088127  0.526289\n",
       "2020-11-29    -0.175937  0.160949\n",
       "2020-12-06     0.235018  0.055567\n",
       "2020-12-13    -0.046413  0.702808\n",
       "2020-12-20    -0.244345  0.043034\n",
       "2020-12-27    -0.228113  0.052254\n",
       "2021-01-03          NaN       NaN"
      ],
      "text/html": [
       "<div>\n",
       "<style scoped>\n",
       "    .dataframe tbody tr th:only-of-type {\n",
       "        vertical-align: middle;\n",
       "    }\n",
       "\n",
       "    .dataframe tbody tr th {\n",
       "        vertical-align: top;\n",
       "    }\n",
       "\n",
       "    .dataframe thead th {\n",
       "        text-align: right;\n",
       "    }\n",
       "</style>\n",
       "<table border=\"1\" class=\"dataframe\">\n",
       "  <thead>\n",
       "    <tr style=\"text-align: right;\">\n",
       "      <th></th>\n",
       "      <th>correlation</th>\n",
       "      <th>p_value</th>\n",
       "    </tr>\n",
       "    <tr>\n",
       "      <th>Week Start</th>\n",
       "      <th></th>\n",
       "      <th></th>\n",
       "    </tr>\n",
       "  </thead>\n",
       "  <tbody>\n",
       "    <tr>\n",
       "      <th>2020-01-26</th>\n",
       "      <td>NaN</td>\n",
       "      <td>NaN</td>\n",
       "    </tr>\n",
       "    <tr>\n",
       "      <th>2020-02-23</th>\n",
       "      <td>NaN</td>\n",
       "      <td>NaN</td>\n",
       "    </tr>\n",
       "    <tr>\n",
       "      <th>2020-03-01</th>\n",
       "      <td>NaN</td>\n",
       "      <td>NaN</td>\n",
       "    </tr>\n",
       "    <tr>\n",
       "      <th>2020-03-08</th>\n",
       "      <td>0.469946</td>\n",
       "      <td>0.287292</td>\n",
       "    </tr>\n",
       "    <tr>\n",
       "      <th>2020-03-15</th>\n",
       "      <td>-0.015474</td>\n",
       "      <td>0.938939</td>\n",
       "    </tr>\n",
       "    <tr>\n",
       "      <th>2020-03-22</th>\n",
       "      <td>-0.052322</td>\n",
       "      <td>0.709834</td>\n",
       "    </tr>\n",
       "    <tr>\n",
       "      <th>2020-03-29</th>\n",
       "      <td>0.079459</td>\n",
       "      <td>0.525951</td>\n",
       "    </tr>\n",
       "    <tr>\n",
       "      <th>2020-04-05</th>\n",
       "      <td>0.034131</td>\n",
       "      <td>0.792277</td>\n",
       "    </tr>\n",
       "    <tr>\n",
       "      <th>2020-04-12</th>\n",
       "      <td>0.193930</td>\n",
       "      <td>0.124666</td>\n",
       "    </tr>\n",
       "    <tr>\n",
       "      <th>2020-04-19</th>\n",
       "      <td>0.009884</td>\n",
       "      <td>0.939737</td>\n",
       "    </tr>\n",
       "    <tr>\n",
       "      <th>2020-04-26</th>\n",
       "      <td>0.016149</td>\n",
       "      <td>0.904230</td>\n",
       "    </tr>\n",
       "    <tr>\n",
       "      <th>2020-05-03</th>\n",
       "      <td>-0.089963</td>\n",
       "      <td>0.472539</td>\n",
       "    </tr>\n",
       "    <tr>\n",
       "      <th>2020-05-10</th>\n",
       "      <td>-0.133713</td>\n",
       "      <td>0.349562</td>\n",
       "    </tr>\n",
       "    <tr>\n",
       "      <th>2020-05-17</th>\n",
       "      <td>0.076658</td>\n",
       "      <td>0.600610</td>\n",
       "    </tr>\n",
       "    <tr>\n",
       "      <th>2020-05-24</th>\n",
       "      <td>0.005446</td>\n",
       "      <td>0.971676</td>\n",
       "    </tr>\n",
       "    <tr>\n",
       "      <th>2020-05-31</th>\n",
       "      <td>0.368655</td>\n",
       "      <td>0.017704</td>\n",
       "    </tr>\n",
       "    <tr>\n",
       "      <th>2020-06-07</th>\n",
       "      <td>0.348276</td>\n",
       "      <td>0.047008</td>\n",
       "    </tr>\n",
       "    <tr>\n",
       "      <th>2020-06-14</th>\n",
       "      <td>0.171939</td>\n",
       "      <td>0.421762</td>\n",
       "    </tr>\n",
       "    <tr>\n",
       "      <th>2020-06-21</th>\n",
       "      <td>-0.091980</td>\n",
       "      <td>0.699734</td>\n",
       "    </tr>\n",
       "    <tr>\n",
       "      <th>2020-06-28</th>\n",
       "      <td>-0.383654</td>\n",
       "      <td>0.244104</td>\n",
       "    </tr>\n",
       "    <tr>\n",
       "      <th>2020-07-05</th>\n",
       "      <td>-0.160576</td>\n",
       "      <td>0.600243</td>\n",
       "    </tr>\n",
       "    <tr>\n",
       "      <th>2020-07-12</th>\n",
       "      <td>0.185364</td>\n",
       "      <td>0.508357</td>\n",
       "    </tr>\n",
       "    <tr>\n",
       "      <th>2020-07-19</th>\n",
       "      <td>0.579261</td>\n",
       "      <td>0.048410</td>\n",
       "    </tr>\n",
       "    <tr>\n",
       "      <th>2020-07-26</th>\n",
       "      <td>-0.362986</td>\n",
       "      <td>0.376821</td>\n",
       "    </tr>\n",
       "    <tr>\n",
       "      <th>2020-08-02</th>\n",
       "      <td>0.021910</td>\n",
       "      <td>0.962814</td>\n",
       "    </tr>\n",
       "    <tr>\n",
       "      <th>2020-08-09</th>\n",
       "      <td>-0.719197</td>\n",
       "      <td>0.170899</td>\n",
       "    </tr>\n",
       "    <tr>\n",
       "      <th>2020-08-16</th>\n",
       "      <td>-0.137181</td>\n",
       "      <td>0.825885</td>\n",
       "    </tr>\n",
       "    <tr>\n",
       "      <th>2020-08-23</th>\n",
       "      <td>-0.055179</td>\n",
       "      <td>0.896750</td>\n",
       "    </tr>\n",
       "    <tr>\n",
       "      <th>2020-08-30</th>\n",
       "      <td>0.184191</td>\n",
       "      <td>0.610475</td>\n",
       "    </tr>\n",
       "    <tr>\n",
       "      <th>2020-09-06</th>\n",
       "      <td>0.193744</td>\n",
       "      <td>0.456220</td>\n",
       "    </tr>\n",
       "    <tr>\n",
       "      <th>2020-09-13</th>\n",
       "      <td>0.216589</td>\n",
       "      <td>0.320883</td>\n",
       "    </tr>\n",
       "    <tr>\n",
       "      <th>2020-09-20</th>\n",
       "      <td>0.128508</td>\n",
       "      <td>0.506460</td>\n",
       "    </tr>\n",
       "    <tr>\n",
       "      <th>2020-09-27</th>\n",
       "      <td>0.248140</td>\n",
       "      <td>0.133060</td>\n",
       "    </tr>\n",
       "    <tr>\n",
       "      <th>2020-10-04</th>\n",
       "      <td>-0.056510</td>\n",
       "      <td>0.709132</td>\n",
       "    </tr>\n",
       "    <tr>\n",
       "      <th>2020-10-11</th>\n",
       "      <td>-0.133042</td>\n",
       "      <td>0.425871</td>\n",
       "    </tr>\n",
       "    <tr>\n",
       "      <th>2020-10-18</th>\n",
       "      <td>0.066052</td>\n",
       "      <td>0.655563</td>\n",
       "    </tr>\n",
       "    <tr>\n",
       "      <th>2020-10-25</th>\n",
       "      <td>0.164149</td>\n",
       "      <td>0.264910</td>\n",
       "    </tr>\n",
       "    <tr>\n",
       "      <th>2020-11-01</th>\n",
       "      <td>-0.062586</td>\n",
       "      <td>0.659374</td>\n",
       "    </tr>\n",
       "    <tr>\n",
       "      <th>2020-11-08</th>\n",
       "      <td>0.425635</td>\n",
       "      <td>0.003558</td>\n",
       "    </tr>\n",
       "    <tr>\n",
       "      <th>2020-11-15</th>\n",
       "      <td>0.042266</td>\n",
       "      <td>0.750599</td>\n",
       "    </tr>\n",
       "    <tr>\n",
       "      <th>2020-11-22</th>\n",
       "      <td>-0.088127</td>\n",
       "      <td>0.526289</td>\n",
       "    </tr>\n",
       "    <tr>\n",
       "      <th>2020-11-29</th>\n",
       "      <td>-0.175937</td>\n",
       "      <td>0.160949</td>\n",
       "    </tr>\n",
       "    <tr>\n",
       "      <th>2020-12-06</th>\n",
       "      <td>0.235018</td>\n",
       "      <td>0.055567</td>\n",
       "    </tr>\n",
       "    <tr>\n",
       "      <th>2020-12-13</th>\n",
       "      <td>-0.046413</td>\n",
       "      <td>0.702808</td>\n",
       "    </tr>\n",
       "    <tr>\n",
       "      <th>2020-12-20</th>\n",
       "      <td>-0.244345</td>\n",
       "      <td>0.043034</td>\n",
       "    </tr>\n",
       "    <tr>\n",
       "      <th>2020-12-27</th>\n",
       "      <td>-0.228113</td>\n",
       "      <td>0.052254</td>\n",
       "    </tr>\n",
       "    <tr>\n",
       "      <th>2021-01-03</th>\n",
       "      <td>NaN</td>\n",
       "      <td>NaN</td>\n",
       "    </tr>\n",
       "  </tbody>\n",
       "</table>\n",
       "</div>"
      ]
     },
     "execution_count": 223,
     "metadata": {},
     "output_type": "execute_result"
    }
   ],
   "execution_count": 223
  },
  {
   "metadata": {
    "ExecuteTime": {
     "end_time": "2025-08-12T03:32:41.172040Z",
     "start_time": "2025-08-12T03:32:41.168793Z"
    }
   },
   "cell_type": "markdown",
   "source": "And again, almost nothing significant.",
   "id": "abd115b821d0e818"
  },
  {
   "metadata": {
    "ExecuteTime": {
     "end_time": "2025-08-13T01:37:28.731538Z",
     "start_time": "2025-08-13T01:37:28.605804Z"
    }
   },
   "cell_type": "code",
   "source": [
    "ax = weekly_data.reset_index().groupby('Week Start').agg({\n",
    "    'Weekly Cases per 1000': 'sum',\n",
    "    'Weekly EMS Calls per 1000': 'sum'\n",
    "}).plot(subplots=False, figsize=(12,8))\n",
    "\n",
    "significant_greater_than_weeks = [\n",
    "    '2020-02-16',\n",
    "    '2020-03-15',\n",
    "]\n",
    "\n",
    "for week in significant_greater_than_weeks:\n",
    "    start_date = pd.to_datetime(week)\n",
    "    end_date = start_date + pd.Timedelta(days=7)\n",
    "    ax.axvspan(start_date, end_date, alpha=0.3, color='lightcoral',\n",
    "               label='Significant Correlation Coefficient > 0.5' if week == significant_greater_than_weeks[0] else \"\")\n",
    "\n",
    "significant_less_than_weeks = [\n",
    "    '2020-09-13',\n",
    "    '2020-03-22',\n",
    "    '2020-09-20',\n",
    "    '2020-09-27',\n",
    "    '2020-05-03',\n",
    "    '2020-04-19',\n",
    "    '2020-07-19',\n",
    "]\n",
    "\n",
    "for week in significant_less_than_weeks:\n",
    "    start_date = pd.to_datetime(week)\n",
    "    end_date = start_date + pd.Timedelta(days=7)\n",
    "    ax.axvspan(start_date, end_date, alpha=0.3, color='aquamarine',\n",
    "               label='Significant Correlation Coefficient < 0.5' if week == significant_less_than_weeks[0] else \"\")\n",
    "plt.title(label = 'Weekly EMS Call Volume and Covid Case Counts with Statistically Significant Correlation Coefficient Highlights')\n",
    "plt.legend()\n",
    "plt.show()"
   ],
   "id": "d9fe4ae70a0c45a7",
   "outputs": [
    {
     "data": {
      "text/plain": [
       "<Figure size 1200x800 with 1 Axes>"
      ],
      "image/png": "[encoded data removed]"
     },
     "metadata": {},
     "output_type": "display_data"
    }
   ],
   "execution_count": 224
  }
 ],
 "metadata": {
  "kernelspec": {
   "display_name": "Python 3",
   "language": "python",
   "name": "python3"
  },
  "language_info": {
   "codemirror_mode": {
    "name": "ipython",
    "version": 2
   },
   "file_extension": ".py",
   "mimetype": "text/x-python",
   "name": "python",
   "nbconvert_exporter": "python",
   "pygments_lexer": "ipython2",
   "version": "2.7.6"
  }
 },
 "nbformat": 4,
 "nbformat_minor": 5
}
